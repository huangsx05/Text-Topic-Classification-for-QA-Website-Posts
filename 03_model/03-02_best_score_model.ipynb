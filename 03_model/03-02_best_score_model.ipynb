{
 "cells": [
  {
   "cell_type": "markdown",
   "metadata": {
    "papermill": {
     "duration": 0.02262,
     "end_time": "2021-04-04T08:33:07.639542",
     "exception": false,
     "start_time": "2021-04-04T08:33:07.616922",
     "status": "completed"
    },
    "tags": []
   },
   "source": [
    "## Read me\n",
    "This notebook uses the outputs of several other notebooks (which are also submitted) as inputs:  \n",
    "1) Training and test data with manual features;  \n",
    "2) Training and test data with LDA-based features."
   ]
  },
  {
   "cell_type": "code",
   "execution_count": 1,
   "metadata": {
    "execution": {
     "iopub.execute_input": "2021-04-04T08:33:07.689887Z",
     "iopub.status.busy": "2021-04-04T08:33:07.689288Z",
     "iopub.status.idle": "2021-04-04T08:33:09.533991Z",
     "shell.execute_reply": "2021-04-04T08:33:09.533198Z"
    },
    "papermill": {
     "duration": 1.87268,
     "end_time": "2021-04-04T08:33:09.534187",
     "exception": false,
     "start_time": "2021-04-04T08:33:07.661507",
     "status": "completed"
    },
    "tags": []
   },
   "outputs": [],
   "source": [
    "import numpy as np \n",
    "import pandas as pd \n",
    "from sklearn.model_selection import cross_val_score\n",
    "from sklearn.metrics import f1_score\n",
    "from sklearn.metrics import classification_report\n",
    "from sklearn.feature_extraction.text import CountVectorizer\n",
    "import matplotlib.pyplot as plt\n",
    "from sklearn.metrics import accuracy_score\n",
    "from sklearn.model_selection import train_test_split\n",
    "import re\n",
    "import string\n",
    "import nltk\n",
    "import warnings\n",
    "warnings.filterwarnings('ignore')\n",
    "import textblob"
   ]
  },
  {
   "cell_type": "markdown",
   "metadata": {
    "papermill": {
     "duration": 0.021511,
     "end_time": "2021-04-04T08:33:09.577989",
     "exception": false,
     "start_time": "2021-04-04T08:33:09.556478",
     "status": "completed"
    },
    "tags": []
   },
   "source": [
    "## Import Data"
   ]
  },
  {
   "cell_type": "code",
   "execution_count": 2,
   "metadata": {
    "execution": {
     "iopub.execute_input": "2021-04-04T08:33:09.632800Z",
     "iopub.status.busy": "2021-04-04T08:33:09.632139Z",
     "iopub.status.idle": "2021-04-04T08:34:11.327454Z",
     "shell.execute_reply": "2021-04-04T08:34:11.327942Z"
    },
    "papermill": {
     "duration": 61.728248,
     "end_time": "2021-04-04T08:34:11.328105",
     "exception": false,
     "start_time": "2021-04-04T08:33:09.599857",
     "status": "completed"
    },
    "tags": []
   },
   "outputs": [
    {
     "name": "stdout",
     "output_type": "stream",
     "text": [
      "CPU times: user 32.5 s, sys: 3.5 s, total: 36 s\n",
      "Wall time: 1min 1s\n"
     ]
    }
   ],
   "source": [
    "%%time\n",
    "#training and test data with manual features, imported from other notebooks\n",
    "file_feat = '../input/train-all-data-feat/df_train_all_feat.csv' \n",
    "new_15_feat = '../input/feateng-output95/df_outp95_feat.csv' #training data based on ‘Pseudo-Labelling’ method\n",
    "test_feat = '../input/df-test-feat/df_test_feat.csv'\n",
    "\n",
    "#training and test data with LDA-based features, imported from other notebooks\n",
    "file_lda_feat = '../input/feateng-list-0404/df_lda_feat.csv'\n",
    "new_15_lda_feat = '../input/feateng-list-0404/df_15_new_lda_feat.csv'\n",
    "test_lda_feat = '../input/feateng-list-0404/df_test_lda_feat.csv'\n",
    "\n",
    "df_feat = pd.read_csv(file_feat)\n",
    "df_new_15_feat = pd.read_csv(new_15_feat)\n",
    "df_test_feat = pd.read_csv(test_feat)\n",
    "\n",
    "df_lda = pd.read_csv(file_lda_feat)\n",
    "df_new_15_lda = pd.read_csv(new_15_lda_feat)\n",
    "df_test_lda = pd.read_csv(test_lda_feat)"
   ]
  },
  {
   "cell_type": "code",
   "execution_count": 3,
   "metadata": {
    "execution": {
     "iopub.execute_input": "2021-04-04T08:34:11.378707Z",
     "iopub.status.busy": "2021-04-04T08:34:11.377691Z",
     "iopub.status.idle": "2021-04-04T08:34:11.382025Z",
     "shell.execute_reply": "2021-04-04T08:34:11.381421Z"
    },
    "papermill": {
     "duration": 0.031878,
     "end_time": "2021-04-04T08:34:11.382164",
     "exception": false,
     "start_time": "2021-04-04T08:34:11.350286",
     "status": "completed"
    },
    "tags": []
   },
   "outputs": [
    {
     "name": "stdout",
     "output_type": "stream",
     "text": [
      "(955454, 40) (422080, 14) (552735, 41)\n",
      "(955454, 21) (422080, 21) (552735, 20)\n"
     ]
    }
   ],
   "source": [
    "print(df_feat.shape, df_new_15_feat.shape, df_test_feat.shape)  \n",
    "print(df_lda.shape, df_new_15_lda.shape, df_test_lda.shape)     "
   ]
  },
  {
   "cell_type": "markdown",
   "metadata": {
    "papermill": {
     "duration": 0.021846,
     "end_time": "2021-04-04T08:34:11.426809",
     "exception": false,
     "start_time": "2021-04-04T08:34:11.404963",
     "status": "completed"
    },
    "tags": []
   },
   "source": [
    "## Organize Data Files\n",
    "Manual features are created for the training and test data at different stages of the project, so different files contains differnt number of columns. The codes below is to select common columns among the files and concatenate the dataframes where needed."
   ]
  },
  {
   "cell_type": "code",
   "execution_count": 4,
   "metadata": {
    "execution": {
     "iopub.execute_input": "2021-04-04T08:34:11.481152Z",
     "iopub.status.busy": "2021-04-04T08:34:11.480545Z",
     "iopub.status.idle": "2021-04-04T08:34:11.490396Z",
     "shell.execute_reply": "2021-04-04T08:34:11.490834Z"
    },
    "papermill": {
     "duration": 0.041636,
     "end_time": "2021-04-04T08:34:11.491005",
     "exception": false,
     "start_time": "2021-04-04T08:34:11.449369",
     "status": "completed"
    },
    "tags": []
   },
   "outputs": [],
   "source": [
    "common_cols1 = list(set(df_feat.columns & df_new_15_feat.columns & df_test_feat.columns))\n",
    "common_cols2 = list(set(df_lda.columns & df_new_15_lda.columns & df_test_lda.columns))"
   ]
  },
  {
   "cell_type": "code",
   "execution_count": 5,
   "metadata": {
    "execution": {
     "iopub.execute_input": "2021-04-04T08:34:11.540178Z",
     "iopub.status.busy": "2021-04-04T08:34:11.539284Z",
     "iopub.status.idle": "2021-04-04T08:34:11.921530Z",
     "shell.execute_reply": "2021-04-04T08:34:11.922060Z"
    },
    "papermill": {
     "duration": 0.408656,
     "end_time": "2021-04-04T08:34:11.922260",
     "exception": false,
     "start_time": "2021-04-04T08:34:11.513604",
     "status": "completed"
    },
    "tags": []
   },
   "outputs": [
    {
     "name": "stdout",
     "output_type": "stream",
     "text": [
      "(955454, 14) (422080, 14) (552735, 13)\n",
      "(955454, 20) (422080, 20) (552735, 20)\n"
     ]
    }
   ],
   "source": [
    "df_1 = df_feat[common_cols1+['Outcome']]\n",
    "df_new_15_1 = df_new_15_feat[common_cols1+['Outcome']]\n",
    "df_test_1 = df_test_feat[common_cols1]\n",
    "\n",
    "df_2 = df_lda[common_cols2]\n",
    "df_new_15_2 = df_new_15_lda[common_cols2]\n",
    "df_test_2 = df_test_lda[common_cols2]\n",
    "\n",
    "print(df_1.shape, df_new_15_1.shape, df_test_1.shape)  \n",
    "print(df_2.shape, df_new_15_2.shape, df_test_2.shape)  "
   ]
  },
  {
   "cell_type": "code",
   "execution_count": 6,
   "metadata": {
    "execution": {
     "iopub.execute_input": "2021-04-04T08:34:11.976612Z",
     "iopub.status.busy": "2021-04-04T08:34:11.975927Z",
     "iopub.status.idle": "2021-04-04T08:34:14.626103Z",
     "shell.execute_reply": "2021-04-04T08:34:14.625398Z"
    },
    "papermill": {
     "duration": 2.680277,
     "end_time": "2021-04-04T08:34:14.626272",
     "exception": false,
     "start_time": "2021-04-04T08:34:11.945995",
     "status": "completed"
    },
    "tags": []
   },
   "outputs": [
    {
     "name": "stdout",
     "output_type": "stream",
     "text": [
      "(955454, 33) (422080, 33) (552735, 32)\n"
     ]
    }
   ],
   "source": [
    "df = pd.merge(df_1, df_2, on='Id')\n",
    "df_new_15 = pd.merge(df_new_15_1, df_new_15_2, on='Id')\n",
    "df_test = pd.merge(df_test_1, df_test_2, on='Id')\n",
    "print(df.shape, df_new_15.shape, df_test.shape)  "
   ]
  },
  {
   "cell_type": "code",
   "execution_count": 7,
   "metadata": {
    "execution": {
     "iopub.execute_input": "2021-04-04T08:34:14.681354Z",
     "iopub.status.busy": "2021-04-04T08:34:14.680618Z",
     "iopub.status.idle": "2021-04-04T08:34:15.684701Z",
     "shell.execute_reply": "2021-04-04T08:34:15.684121Z"
    },
    "papermill": {
     "duration": 1.034613,
     "end_time": "2021-04-04T08:34:15.684863",
     "exception": false,
     "start_time": "2021-04-04T08:34:14.650250",
     "status": "completed"
    },
    "tags": []
   },
   "outputs": [
    {
     "name": "stdout",
     "output_type": "stream",
     "text": [
      "(955454, 28) (422080, 28) (552735, 27)\n"
     ]
    }
   ],
   "source": [
    "drop_columns = ['Text_y', 'Id', 'Split_x', 'Split_y', 'Unnamed: 0']\n",
    "df = df.drop(columns = drop_columns, axis=1)\n",
    "df_new_15 = df_new_15.drop(columns = drop_columns, axis=1)\n",
    "df_test = df_test.drop(columns = drop_columns, axis=1)\n",
    "print(df.shape, df_new_15.shape, df_test.shape)  "
   ]
  },
  {
   "cell_type": "code",
   "execution_count": 8,
   "metadata": {
    "execution": {
     "iopub.execute_input": "2021-04-04T08:34:15.742262Z",
     "iopub.status.busy": "2021-04-04T08:34:15.739456Z",
     "iopub.status.idle": "2021-04-04T08:34:16.550015Z",
     "shell.execute_reply": "2021-04-04T08:34:16.550584Z"
    },
    "papermill": {
     "duration": 0.841506,
     "end_time": "2021-04-04T08:34:16.550785",
     "exception": false,
     "start_time": "2021-04-04T08:34:15.709279",
     "status": "completed"
    },
    "tags": []
   },
   "outputs": [
    {
     "name": "stdout",
     "output_type": "stream",
     "text": [
      "(1377534, 28)\n"
     ]
    },
    {
     "data": {
      "text/html": [
       "<div>\n",
       "<style scoped>\n",
       "    .dataframe tbody tr th:only-of-type {\n",
       "        vertical-align: middle;\n",
       "    }\n",
       "\n",
       "    .dataframe tbody tr th {\n",
       "        vertical-align: top;\n",
       "    }\n",
       "\n",
       "    .dataframe thead th {\n",
       "        text-align: right;\n",
       "    }\n",
       "</style>\n",
       "<table border=\"1\" class=\"dataframe\">\n",
       "  <thead>\n",
       "    <tr style=\"text-align: right;\">\n",
       "      <th></th>\n",
       "      <th>adj_density</th>\n",
       "      <th>num_word_count</th>\n",
       "      <th>verb_count</th>\n",
       "      <th>word_count</th>\n",
       "      <th>pron_count</th>\n",
       "      <th>pron_density</th>\n",
       "      <th>num_char_count</th>\n",
       "      <th>Text_x</th>\n",
       "      <th>adj_count</th>\n",
       "      <th>num_char_density</th>\n",
       "      <th>...</th>\n",
       "      <th>lda_1</th>\n",
       "      <th>lda_13</th>\n",
       "      <th>lda_0</th>\n",
       "      <th>lda_3</th>\n",
       "      <th>lda_7</th>\n",
       "      <th>lda_10</th>\n",
       "      <th>lda_5</th>\n",
       "      <th>lda_6</th>\n",
       "      <th>lda_4</th>\n",
       "      <th>lda_15</th>\n",
       "    </tr>\n",
       "  </thead>\n",
       "  <tbody>\n",
       "    <tr>\n",
       "      <th>0</th>\n",
       "      <td>0.220000</td>\n",
       "      <td>0</td>\n",
       "      <td>6</td>\n",
       "      <td>49</td>\n",
       "      <td>2</td>\n",
       "      <td>0.040000</td>\n",
       "      <td>5</td>\n",
       "      <td>I am having a problem with the first example o...</td>\n",
       "      <td>11</td>\n",
       "      <td>0.102041</td>\n",
       "      <td>...</td>\n",
       "      <td>0</td>\n",
       "      <td>0</td>\n",
       "      <td>0</td>\n",
       "      <td>0</td>\n",
       "      <td>1</td>\n",
       "      <td>0</td>\n",
       "      <td>0</td>\n",
       "      <td>0</td>\n",
       "      <td>0</td>\n",
       "      <td>0</td>\n",
       "    </tr>\n",
       "    <tr>\n",
       "      <th>1</th>\n",
       "      <td>0.236842</td>\n",
       "      <td>0</td>\n",
       "      <td>9</td>\n",
       "      <td>37</td>\n",
       "      <td>2</td>\n",
       "      <td>0.052632</td>\n",
       "      <td>2</td>\n",
       "      <td>everyone, I met a tough definite integral as f...</td>\n",
       "      <td>9</td>\n",
       "      <td>0.054054</td>\n",
       "      <td>...</td>\n",
       "      <td>0</td>\n",
       "      <td>0</td>\n",
       "      <td>0</td>\n",
       "      <td>0</td>\n",
       "      <td>0</td>\n",
       "      <td>0</td>\n",
       "      <td>0</td>\n",
       "      <td>0</td>\n",
       "      <td>0</td>\n",
       "      <td>0</td>\n",
       "    </tr>\n",
       "    <tr>\n",
       "      <th>2</th>\n",
       "      <td>0.224490</td>\n",
       "      <td>3</td>\n",
       "      <td>11</td>\n",
       "      <td>48</td>\n",
       "      <td>2</td>\n",
       "      <td>0.040816</td>\n",
       "      <td>3</td>\n",
       "      <td>Please dont lynch me, but i've never sat throu...</td>\n",
       "      <td>11</td>\n",
       "      <td>0.062500</td>\n",
       "      <td>...</td>\n",
       "      <td>0</td>\n",
       "      <td>0</td>\n",
       "      <td>0</td>\n",
       "      <td>0</td>\n",
       "      <td>0</td>\n",
       "      <td>4</td>\n",
       "      <td>0</td>\n",
       "      <td>0</td>\n",
       "      <td>0</td>\n",
       "      <td>0</td>\n",
       "    </tr>\n",
       "    <tr>\n",
       "      <th>3</th>\n",
       "      <td>0.125000</td>\n",
       "      <td>0</td>\n",
       "      <td>1</td>\n",
       "      <td>7</td>\n",
       "      <td>0</td>\n",
       "      <td>0.000000</td>\n",
       "      <td>2</td>\n",
       "      <td>How to calculate $ \\mathbb{Z}[x] /\\langle2x-1\\...</td>\n",
       "      <td>1</td>\n",
       "      <td>0.285714</td>\n",
       "      <td>...</td>\n",
       "      <td>0</td>\n",
       "      <td>0</td>\n",
       "      <td>0</td>\n",
       "      <td>0</td>\n",
       "      <td>0</td>\n",
       "      <td>0</td>\n",
       "      <td>0</td>\n",
       "      <td>0</td>\n",
       "      <td>0</td>\n",
       "      <td>0</td>\n",
       "    </tr>\n",
       "    <tr>\n",
       "      <th>4</th>\n",
       "      <td>0.000000</td>\n",
       "      <td>0</td>\n",
       "      <td>8</td>\n",
       "      <td>36</td>\n",
       "      <td>5</td>\n",
       "      <td>0.135135</td>\n",
       "      <td>0</td>\n",
       "      <td>When somebody rings or texts my iPhone it is n...</td>\n",
       "      <td>0</td>\n",
       "      <td>0.000000</td>\n",
       "      <td>...</td>\n",
       "      <td>0</td>\n",
       "      <td>0</td>\n",
       "      <td>0</td>\n",
       "      <td>0</td>\n",
       "      <td>0</td>\n",
       "      <td>0</td>\n",
       "      <td>0</td>\n",
       "      <td>0</td>\n",
       "      <td>0</td>\n",
       "      <td>0</td>\n",
       "    </tr>\n",
       "  </tbody>\n",
       "</table>\n",
       "<p>5 rows × 28 columns</p>\n",
       "</div>"
      ],
      "text/plain": [
       "   adj_density  num_word_count  verb_count  word_count  pron_count  \\\n",
       "0     0.220000               0           6          49           2   \n",
       "1     0.236842               0           9          37           2   \n",
       "2     0.224490               3          11          48           2   \n",
       "3     0.125000               0           1           7           0   \n",
       "4     0.000000               0           8          36           5   \n",
       "\n",
       "   pron_density  num_char_count  \\\n",
       "0      0.040000               5   \n",
       "1      0.052632               2   \n",
       "2      0.040816               3   \n",
       "3      0.000000               2   \n",
       "4      0.135135               0   \n",
       "\n",
       "                                              Text_x  adj_count  \\\n",
       "0  I am having a problem with the first example o...         11   \n",
       "1  everyone, I met a tough definite integral as f...          9   \n",
       "2  Please dont lynch me, but i've never sat throu...         11   \n",
       "3  How to calculate $ \\mathbb{Z}[x] /\\langle2x-1\\...          1   \n",
       "4  When somebody rings or texts my iPhone it is n...          0   \n",
       "\n",
       "   num_char_density  ...  lda_1  lda_13  lda_0  lda_3  lda_7  lda_10  lda_5  \\\n",
       "0          0.102041  ...      0       0      0      0      1       0      0   \n",
       "1          0.054054  ...      0       0      0      0      0       0      0   \n",
       "2          0.062500  ...      0       0      0      0      0       4      0   \n",
       "3          0.285714  ...      0       0      0      0      0       0      0   \n",
       "4          0.000000  ...      0       0      0      0      0       0      0   \n",
       "\n",
       "   lda_6  lda_4  lda_15  \n",
       "0      0      0       0  \n",
       "1      0      0       0  \n",
       "2      0      0       0  \n",
       "3      0      0       0  \n",
       "4      0      0       0  \n",
       "\n",
       "[5 rows x 28 columns]"
      ]
     },
     "execution_count": 8,
     "metadata": {},
     "output_type": "execute_result"
    }
   ],
   "source": [
    "df = pd.concat([df,df_new_15], ignore_index=True)\n",
    "df = df.reset_index().drop(columns=['index'])\n",
    "print(df.shape)\n",
    "df.head()"
   ]
  },
  {
   "cell_type": "markdown",
   "metadata": {
    "papermill": {
     "duration": 0.025593,
     "end_time": "2021-04-04T08:34:16.602272",
     "exception": false,
     "start_time": "2021-04-04T08:34:16.576679",
     "status": "completed"
    },
    "tags": []
   },
   "source": [
    "## Inputs"
   ]
  },
  {
   "cell_type": "code",
   "execution_count": 9,
   "metadata": {
    "execution": {
     "iopub.execute_input": "2021-04-04T08:34:16.660588Z",
     "iopub.status.busy": "2021-04-04T08:34:16.659831Z",
     "iopub.status.idle": "2021-04-04T08:34:16.663811Z",
     "shell.execute_reply": "2021-04-04T08:34:16.664350Z"
    },
    "papermill": {
     "duration": 0.036192,
     "end_time": "2021-04-04T08:34:16.664524",
     "exception": false,
     "start_time": "2021-04-04T08:34:16.628332",
     "status": "completed"
    },
    "tags": []
   },
   "outputs": [],
   "source": [
    "seed = 2021\n",
    "valid_ratio = 0.3\n",
    "n_sample_tuning = 100000\n",
    "\n",
    "cv = 5\n",
    "num_eval = 5 \n",
    "\n",
    "DEBUG = False\n",
    "if DEBUG:\n",
    "    df = df[:1000]\n",
    "    df_test = df_test[:1000]\n",
    "    cv = 2\n",
    "    num_eval = 2"
   ]
  },
  {
   "cell_type": "code",
   "execution_count": 10,
   "metadata": {
    "execution": {
     "iopub.execute_input": "2021-04-04T08:34:16.722396Z",
     "iopub.status.busy": "2021-04-04T08:34:16.721452Z",
     "iopub.status.idle": "2021-04-04T08:34:16.724746Z",
     "shell.execute_reply": "2021-04-04T08:34:16.724146Z"
    },
    "papermill": {
     "duration": 0.03458,
     "end_time": "2021-04-04T08:34:16.724881",
     "exception": false,
     "start_time": "2021-04-04T08:34:16.690301",
     "status": "completed"
    },
    "tags": []
   },
   "outputs": [],
   "source": [
    "target = 'Outcome'\n",
    "\n",
    "features = [\n",
    "            'adj_density',    \n",
    "            'lda_0', \n",
    "            'lda_1', \n",
    "            'lda_10', \n",
    "            'lda_11', \n",
    "            'lda_12', \n",
    "            'lda_13', \n",
    "            'lda_14', \n",
    "            'lda_15', \n",
    "            'lda_2', \n",
    "            'lda_3', \n",
    "            'lda_4', \n",
    "            'lda_5', \n",
    "            'lda_6', \n",
    "            'lda_7', \n",
    "            'lda_8', \n",
    "            'lda_9', \n",
    "            'num_char_density', \n",
    "            'num_word_count',   \n",
    "            'pron_density', \n",
    "            'verb_density', \n",
    "           ]"
   ]
  },
  {
   "cell_type": "markdown",
   "metadata": {
    "papermill": {
     "duration": 0.025742,
     "end_time": "2021-04-04T08:34:16.777245",
     "exception": false,
     "start_time": "2021-04-04T08:34:16.751503",
     "status": "completed"
    },
    "tags": []
   },
   "source": [
    "## Get Balanced Data for Training"
   ]
  },
  {
   "cell_type": "code",
   "execution_count": 11,
   "metadata": {
    "execution": {
     "iopub.execute_input": "2021-04-04T08:34:16.835272Z",
     "iopub.status.busy": "2021-04-04T08:34:16.834575Z",
     "iopub.status.idle": "2021-04-04T08:34:16.837455Z",
     "shell.execute_reply": "2021-04-04T08:34:16.836822Z"
    },
    "papermill": {
     "duration": 0.033753,
     "end_time": "2021-04-04T08:34:16.837595",
     "exception": false,
     "start_time": "2021-04-04T08:34:16.803842",
     "status": "completed"
    },
    "tags": []
   },
   "outputs": [],
   "source": [
    "def get_samples(df,n, replace):\n",
    "    df = df.sample(n=n,replace=True,random_state=2021,axis=0)\n",
    "    return df"
   ]
  },
  {
   "cell_type": "code",
   "execution_count": 12,
   "metadata": {
    "execution": {
     "iopub.execute_input": "2021-04-04T08:34:16.897647Z",
     "iopub.status.busy": "2021-04-04T08:34:16.897006Z",
     "iopub.status.idle": "2021-04-04T08:34:21.837336Z",
     "shell.execute_reply": "2021-04-04T08:34:21.836785Z"
    },
    "papermill": {
     "duration": 4.973625,
     "end_time": "2021-04-04T08:34:21.837486",
     "exception": false,
     "start_time": "2021-04-04T08:34:16.863861",
     "status": "completed"
    },
    "tags": []
   },
   "outputs": [
    {
     "name": "stdout",
     "output_type": "stream",
     "text": [
      "(1600000, 28)\n"
     ]
    }
   ],
   "source": [
    "df_temp = pd.DataFrame()\n",
    "for i in range(df.Outcome.nunique()):\n",
    "    df_i = df[df.Outcome == i]\n",
    "    if df_i.shape[0] > n_sample_tuning:\n",
    "        df_i = get_samples(df_i, n_sample_tuning, replace=False)\n",
    "    else:\n",
    "        df_i = get_samples(df_i, n_sample_tuning, replace=True)\n",
    "    #print(i, df_i.shape)\n",
    "    df_temp = pd.concat([df_temp, df_i], ignore_index=True)\n",
    "df = df_temp\n",
    "print(df.shape)"
   ]
  },
  {
   "cell_type": "markdown",
   "metadata": {
    "papermill": {
     "duration": 0.027105,
     "end_time": "2021-04-04T08:34:21.891617",
     "exception": false,
     "start_time": "2021-04-04T08:34:21.864512",
     "status": "completed"
    },
    "tags": []
   },
   "source": [
    "## Model"
   ]
  },
  {
   "cell_type": "code",
   "execution_count": 13,
   "metadata": {
    "execution": {
     "iopub.execute_input": "2021-04-04T08:34:21.951923Z",
     "iopub.status.busy": "2021-04-04T08:34:21.951275Z",
     "iopub.status.idle": "2021-04-04T08:34:23.898935Z",
     "shell.execute_reply": "2021-04-04T08:34:23.898297Z"
    },
    "papermill": {
     "duration": 1.980603,
     "end_time": "2021-04-04T08:34:23.899081",
     "exception": false,
     "start_time": "2021-04-04T08:34:21.918478",
     "status": "completed"
    },
    "tags": []
   },
   "outputs": [],
   "source": [
    "from sklearn.utils import shuffle\n",
    "df['Outcome'] = df['Outcome'].astype('int64')\n",
    "df = shuffle(df).reset_index().drop(columns=['index'])"
   ]
  },
  {
   "cell_type": "code",
   "execution_count": 14,
   "metadata": {
    "execution": {
     "iopub.execute_input": "2021-04-04T08:34:23.957975Z",
     "iopub.status.busy": "2021-04-04T08:34:23.957356Z",
     "iopub.status.idle": "2021-04-04T08:34:25.128436Z",
     "shell.execute_reply": "2021-04-04T08:34:25.127857Z"
    },
    "papermill": {
     "duration": 1.202995,
     "end_time": "2021-04-04T08:34:25.128582",
     "exception": false,
     "start_time": "2021-04-04T08:34:23.925587",
     "status": "completed"
    },
    "tags": []
   },
   "outputs": [],
   "source": [
    "for col in [x for x in df.columns if x!='Text_x']:\n",
    "    df[col] = df[col].astype('float64') #transform to avoid error"
   ]
  },
  {
   "cell_type": "code",
   "execution_count": 15,
   "metadata": {
    "execution": {
     "iopub.execute_input": "2021-04-04T08:34:25.187635Z",
     "iopub.status.busy": "2021-04-04T08:34:25.186987Z",
     "iopub.status.idle": "2021-04-04T08:34:25.191842Z",
     "shell.execute_reply": "2021-04-04T08:34:25.191307Z"
    },
    "papermill": {
     "duration": 0.036347,
     "end_time": "2021-04-04T08:34:25.191978",
     "exception": false,
     "start_time": "2021-04-04T08:34:25.155631",
     "status": "completed"
    },
    "tags": []
   },
   "outputs": [
    {
     "data": {
      "text/plain": [
       "'\\nn_split = int((1-valid_ratio)*df.shape[0])\\nprint(df.shape[0], n_split)\\ndf_train = df[:n_split]\\ndf_valid = df[n_split:]\\n'"
      ]
     },
     "execution_count": 15,
     "metadata": {},
     "output_type": "execute_result"
    }
   ],
   "source": [
    "#for optimization use\n",
    "#split train and valid data\n",
    "\"\"\"\n",
    "n_split = int((1-valid_ratio)*df.shape[0])\n",
    "print(df.shape[0], n_split)\n",
    "df_train = df[:n_split]\n",
    "df_valid = df[n_split:]\n",
    "\"\"\""
   ]
  },
  {
   "cell_type": "code",
   "execution_count": 16,
   "metadata": {
    "execution": {
     "iopub.execute_input": "2021-04-04T08:34:25.251832Z",
     "iopub.status.busy": "2021-04-04T08:34:25.251091Z",
     "iopub.status.idle": "2021-04-04T08:34:25.717617Z",
     "shell.execute_reply": "2021-04-04T08:34:25.716932Z"
    },
    "papermill": {
     "duration": 0.498939,
     "end_time": "2021-04-04T08:34:25.717772",
     "exception": false,
     "start_time": "2021-04-04T08:34:25.218833",
     "status": "completed"
    },
    "tags": []
   },
   "outputs": [],
   "source": [
    "X_train_vec = df['Text_x']\n",
    "X_train_feat = df[features]\n",
    "X_train = df[features + ['Text_x']]\n",
    "y_train = df[target]"
   ]
  },
  {
   "cell_type": "code",
   "execution_count": 17,
   "metadata": {
    "execution": {
     "iopub.execute_input": "2021-04-04T08:34:25.777716Z",
     "iopub.status.busy": "2021-04-04T08:34:25.776757Z",
     "iopub.status.idle": "2021-04-04T08:34:25.782958Z",
     "shell.execute_reply": "2021-04-04T08:34:25.782404Z"
    },
    "papermill": {
     "duration": 0.038263,
     "end_time": "2021-04-04T08:34:25.783089",
     "exception": false,
     "start_time": "2021-04-04T08:34:25.744826",
     "status": "completed"
    },
    "tags": []
   },
   "outputs": [
    {
     "data": {
      "text/plain": [
       "CountVectorizer(min_df=2, token_pattern='\\\\b\\\\w\\\\w+\\\\b')"
      ]
     },
     "execution_count": 17,
     "metadata": {},
     "output_type": "execute_result"
    }
   ],
   "source": [
    "from sklearn.feature_extraction.text import CountVectorizer\n",
    "vect = CountVectorizer(min_df = 2, \n",
    "                       token_pattern = r\"\\b\\w\\w+\\b\") #parameter obtained from optimization\n",
    "vect"
   ]
  },
  {
   "cell_type": "code",
   "execution_count": 18,
   "metadata": {
    "execution": {
     "iopub.execute_input": "2021-04-04T08:34:25.842357Z",
     "iopub.status.busy": "2021-04-04T08:34:25.841554Z",
     "iopub.status.idle": "2021-04-04T08:34:25.847726Z",
     "shell.execute_reply": "2021-04-04T08:34:25.847139Z"
    },
    "papermill": {
     "duration": 0.037828,
     "end_time": "2021-04-04T08:34:25.847864",
     "exception": false,
     "start_time": "2021-04-04T08:34:25.810036",
     "status": "completed"
    },
    "tags": []
   },
   "outputs": [],
   "source": [
    "from sklearn.naive_bayes import MultinomialNB\n",
    "nb = MultinomialNB(alpha = 0.23955062740611444) #parameter obtained from optimization"
   ]
  },
  {
   "cell_type": "code",
   "execution_count": 19,
   "metadata": {
    "execution": {
     "iopub.execute_input": "2021-04-04T08:34:25.908585Z",
     "iopub.status.busy": "2021-04-04T08:34:25.907883Z",
     "iopub.status.idle": "2021-04-04T08:34:25.910712Z",
     "shell.execute_reply": "2021-04-04T08:34:25.911154Z"
    },
    "papermill": {
     "duration": 0.035553,
     "end_time": "2021-04-04T08:34:25.911342",
     "exception": false,
     "start_time": "2021-04-04T08:34:25.875789",
     "status": "completed"
    },
    "tags": []
   },
   "outputs": [],
   "source": [
    "# define a function that accepts a DataFrame returns the ingredients string\n",
    "def get_text(df):\n",
    "    return df.Text_x"
   ]
  },
  {
   "cell_type": "code",
   "execution_count": 20,
   "metadata": {
    "execution": {
     "iopub.execute_input": "2021-04-04T08:34:25.972606Z",
     "iopub.status.busy": "2021-04-04T08:34:25.971897Z",
     "iopub.status.idle": "2021-04-04T08:34:25.974734Z",
     "shell.execute_reply": "2021-04-04T08:34:25.975167Z"
    },
    "papermill": {
     "duration": 0.035696,
     "end_time": "2021-04-04T08:34:25.975352",
     "exception": false,
     "start_time": "2021-04-04T08:34:25.939656",
     "status": "completed"
    },
    "tags": []
   },
   "outputs": [],
   "source": [
    "# define a function that accepts a DataFrame returns the manually created features\n",
    "def get_manual(df):\n",
    "    return df[features]"
   ]
  },
  {
   "cell_type": "code",
   "execution_count": 21,
   "metadata": {
    "execution": {
     "iopub.execute_input": "2021-04-04T08:34:26.036574Z",
     "iopub.status.busy": "2021-04-04T08:34:26.035904Z",
     "iopub.status.idle": "2021-04-04T08:34:26.042143Z",
     "shell.execute_reply": "2021-04-04T08:34:26.041611Z"
    },
    "papermill": {
     "duration": 0.038974,
     "end_time": "2021-04-04T08:34:26.042309",
     "exception": false,
     "start_time": "2021-04-04T08:34:26.003335",
     "status": "completed"
    },
    "tags": []
   },
   "outputs": [],
   "source": [
    "# create a pipeline of vectorization and Naive Bayes\n",
    "from sklearn.pipeline import make_pipeline\n",
    "from sklearn.pipeline import make_union\n",
    "from sklearn.preprocessing import FunctionTransformer\n",
    "get_text_ft = FunctionTransformer(get_text, validate=False)\n",
    "get_manual_ft = FunctionTransformer(get_manual, validate=False)"
   ]
  },
  {
   "cell_type": "code",
   "execution_count": 22,
   "metadata": {
    "execution": {
     "iopub.execute_input": "2021-04-04T08:34:26.102878Z",
     "iopub.status.busy": "2021-04-04T08:34:26.102261Z",
     "iopub.status.idle": "2021-04-04T08:34:26.106491Z",
     "shell.execute_reply": "2021-04-04T08:34:26.107089Z"
    },
    "papermill": {
     "duration": 0.035548,
     "end_time": "2021-04-04T08:34:26.107275",
     "exception": false,
     "start_time": "2021-04-04T08:34:26.071727",
     "status": "completed"
    },
    "tags": []
   },
   "outputs": [],
   "source": [
    "union = make_union(make_pipeline(get_text_ft, vect), get_manual_ft) "
   ]
  },
  {
   "cell_type": "code",
   "execution_count": 23,
   "metadata": {
    "execution": {
     "iopub.execute_input": "2021-04-04T08:34:26.166759Z",
     "iopub.status.busy": "2021-04-04T08:34:26.166142Z",
     "iopub.status.idle": "2021-04-04T08:34:26.171035Z",
     "shell.execute_reply": "2021-04-04T08:34:26.171602Z"
    },
    "papermill": {
     "duration": 0.036174,
     "end_time": "2021-04-04T08:34:26.171778",
     "exception": false,
     "start_time": "2021-04-04T08:34:26.135604",
     "status": "completed"
    },
    "tags": []
   },
   "outputs": [
    {
     "data": {
      "text/plain": [
       "'\\nX_dtm_manual = union.fit_transform(df_train)\\nnb.fit(X_dtm_manual, df_train.Outcome)\\n\\nfrom hyperopt import fmin, tpe, hp, STATUS_OK, Trials\\nfrom time import time\\nparam_hyperopt= {\\n    \\'countvectorizer__token_pattern\\': hp.choice(\\'countvectorizer__token_pattern\\', [r\"\\x08\\\\w\\\\w+\\x08\", r\"\\'([a-z ]+)\\'\"]),\\n    \\'countvectorizer__min_df\\':        hp.choice(\\'countvectorizer__min_df\\', np.arange(1, 5, 1, dtype=int)), \\n    \\'multinomialnb__alpha\\':           hp.uniform(\\'multinomialnb__alpha\\', 0.0, 1.0)                                   \\n    }\\n'"
      ]
     },
     "execution_count": 23,
     "metadata": {},
     "output_type": "execute_result"
    }
   ],
   "source": [
    "#for optimization use\n",
    "\"\"\"\n",
    "X_dtm_manual = union.fit_transform(df_train)\n",
    "nb.fit(X_dtm_manual, df_train.Outcome)\n",
    "\n",
    "from hyperopt import fmin, tpe, hp, STATUS_OK, Trials\n",
    "from time import time\n",
    "param_hyperopt= {\n",
    "    'countvectorizer__token_pattern': hp.choice('countvectorizer__token_pattern', [r\"\\b\\w\\w+\\b\", r\"'([a-z ]+)'\"]),\n",
    "    'countvectorizer__min_df':        hp.choice('countvectorizer__min_df', np.arange(1, 5, 1, dtype=int)), \n",
    "    'multinomialnb__alpha':           hp.uniform('multinomialnb__alpha', 0.0, 1.0)                                   \n",
    "    }\n",
    "\"\"\""
   ]
  },
  {
   "cell_type": "code",
   "execution_count": 24,
   "metadata": {
    "execution": {
     "iopub.execute_input": "2021-04-04T08:34:26.232365Z",
     "iopub.status.busy": "2021-04-04T08:34:26.231728Z",
     "iopub.status.idle": "2021-04-04T08:34:26.239081Z",
     "shell.execute_reply": "2021-04-04T08:34:26.238561Z"
    },
    "papermill": {
     "duration": 0.038789,
     "end_time": "2021-04-04T08:34:26.239236",
     "exception": false,
     "start_time": "2021-04-04T08:34:26.200447",
     "status": "completed"
    },
    "tags": []
   },
   "outputs": [
    {
     "data": {
      "text/plain": [
       "'\\ndef hyperopt(param_space, X_train, y_train, num_eval):\\n    \\n    start = time()\\n    \\n    # defin the object function\\n    def objective_function(params):\\n        clf = nb.set_params(**params) ### since pipelien object is not callable\\n        score = cross_val_score(clf, X_train, y_train, cv=cv).mean()\\n        return {\\'loss\\': -score, \\'status\\': STATUS_OK}\\n\\n    trials = Trials()\\n\\n    best_param = fmin(objective_function, \\n                      param_space, \\n                      algo=tpe.suggest, # you can change other algorithms such as GP,\\n                      max_evals=num_eval, \\n                      trials=trials,\\n                      rstate= np.random.RandomState(1))\\n    \\n    loss = [x[\\'result\\'][\\'loss\\'] for x in trials.trials]\\n    \\n    best_param_values = [x for x in best_param.values()]\\n    print(best_param_values)\\n    \\n    if best_param_values[1] == 0:\\n        token_type = r\"\\x08\\\\w\\\\w+\\x08\"\\n    else:\\n        token_type = r\"\\'([a-z ]+)\\'\"\\n    \\n    clf_best = pipe.set_params(countvectorizer__token_pattern=token_type,\\n                    countvectorizer__min_df=int(best_param_values[0]),\\n                    multinomialnb__alpha=float(best_param_values[2]))\\n                                  \\n    clf_best.fit(X_train, y_train)\\n    \\n    print(\"\")\\n    print(\"##### Results\")\\n    print(\"Score best parameters: \", min(loss)*-1)\\n    print(\"Best parameters: \", best_param)\\n    print(\"Time elapsed: \", time() - start)\\n    print(\"Parameter combinations evaluated: \", num_eval)\\n    \\n    return trials, clf_best\\n'"
      ]
     },
     "execution_count": 24,
     "metadata": {},
     "output_type": "execute_result"
    }
   ],
   "source": [
    "#for optimization use\n",
    "\"\"\"\n",
    "def hyperopt(param_space, X_train, y_train, num_eval):\n",
    "    \n",
    "    start = time()\n",
    "    \n",
    "    # defin the object function\n",
    "    def objective_function(params):\n",
    "        clf = nb.set_params(**params) ### since pipelien object is not callable\n",
    "        score = cross_val_score(clf, X_train, y_train, cv=cv).mean()\n",
    "        return {'loss': -score, 'status': STATUS_OK}\n",
    "\n",
    "    trials = Trials()\n",
    "\n",
    "    best_param = fmin(objective_function, \n",
    "                      param_space, \n",
    "                      algo=tpe.suggest, # you can change other algorithms such as GP,\n",
    "                      max_evals=num_eval, \n",
    "                      trials=trials,\n",
    "                      rstate= np.random.RandomState(1))\n",
    "    \n",
    "    loss = [x['result']['loss'] for x in trials.trials]\n",
    "    \n",
    "    best_param_values = [x for x in best_param.values()]\n",
    "    print(best_param_values)\n",
    "    \n",
    "    if best_param_values[1] == 0:\n",
    "        token_type = r\"\\b\\w\\w+\\b\"\n",
    "    else:\n",
    "        token_type = r\"'([a-z ]+)'\"\n",
    "    \n",
    "    clf_best = pipe.set_params(countvectorizer__token_pattern=token_type,\n",
    "                    countvectorizer__min_df=int(best_param_values[0]),\n",
    "                    multinomialnb__alpha=float(best_param_values[2]))\n",
    "                                  \n",
    "    clf_best.fit(X_train, y_train)\n",
    "    \n",
    "    print(\"\")\n",
    "    print(\"##### Results\")\n",
    "    print(\"Score best parameters: \", min(loss)*-1)\n",
    "    print(\"Best parameters: \", best_param)\n",
    "    print(\"Time elapsed: \", time() - start)\n",
    "    print(\"Parameter combinations evaluated: \", num_eval)\n",
    "    \n",
    "    return trials, clf_best\n",
    "\"\"\""
   ]
  },
  {
   "cell_type": "code",
   "execution_count": 25,
   "metadata": {
    "execution": {
     "iopub.execute_input": "2021-04-04T08:34:26.302318Z",
     "iopub.status.busy": "2021-04-04T08:34:26.301688Z",
     "iopub.status.idle": "2021-04-04T08:34:26.305841Z",
     "shell.execute_reply": "2021-04-04T08:34:26.305191Z"
    },
    "papermill": {
     "duration": 0.037531,
     "end_time": "2021-04-04T08:34:26.305980",
     "exception": false,
     "start_time": "2021-04-04T08:34:26.268449",
     "status": "completed"
    },
    "tags": []
   },
   "outputs": [
    {
     "data": {
      "text/plain": [
       "'\\n%%time\\nresults_hyperopt, clf = hyperopt(param_hyperopt, X_dtm_manual, df_train.Outcome, num_eval)'"
      ]
     },
     "execution_count": 25,
     "metadata": {},
     "output_type": "execute_result"
    }
   ],
   "source": [
    "#for optimization use\n",
    "\"\"\"\n",
    "%%time\n",
    "results_hyperopt, clf = hyperopt(param_hyperopt, X_dtm_manual, df_train.Outcome, num_eval)\"\"\""
   ]
  },
  {
   "cell_type": "markdown",
   "metadata": {
    "papermill": {
     "duration": 0.029266,
     "end_time": "2021-04-04T08:34:26.364992",
     "exception": false,
     "start_time": "2021-04-04T08:34:26.335726",
     "status": "completed"
    },
    "tags": []
   },
   "source": [
    "# Validate"
   ]
  },
  {
   "cell_type": "code",
   "execution_count": 26,
   "metadata": {
    "execution": {
     "iopub.execute_input": "2021-04-04T08:34:26.427179Z",
     "iopub.status.busy": "2021-04-04T08:34:26.426519Z",
     "iopub.status.idle": "2021-04-04T08:34:26.433076Z",
     "shell.execute_reply": "2021-04-04T08:34:26.433550Z"
    },
    "papermill": {
     "duration": 0.039098,
     "end_time": "2021-04-04T08:34:26.433725",
     "exception": false,
     "start_time": "2021-04-04T08:34:26.394627",
     "status": "completed"
    },
    "tags": []
   },
   "outputs": [
    {
     "data": {
      "text/plain": [
       "\"\\nfrom sklearn.metrics import precision_score, recall_score\\nfrom sklearn.metrics import roc_auc_score, accuracy_score\\nfrom sklearn.metrics import classification_report\\n\\nX_valid_dtm_manual = union.transform(df_valid)\\nvalid_pred = nb.predict(X_valid_dtm_manual)\\nvalid_proba = nb.predict_proba(X_valid_dtm_manual)\\ny_valid = df_valid.Outcome\\n\\nvalid_precision = precision_score(y_valid, valid_pred, average='micro')\\nvalid_recall = recall_score(y_valid, valid_pred, average='micro')\\nvalid_accuracy = accuracy_score(y_valid, valid_pred)\\nvalid_auc = roc_auc_score(y_valid, valid_proba, multi_class='ovr')\\n\\nprint('valid precision: ', valid_precision)\\nprint('valid recall: ', valid_recall)\\nprint('valid accuracy: ', valid_accuracy)\\nprint('valid auc: ', valid_auc)\\nprint(classification_report(y_valid, valid_pred))\\n\""
      ]
     },
     "execution_count": 26,
     "metadata": {},
     "output_type": "execute_result"
    }
   ],
   "source": [
    "#for optimization use\n",
    "\"\"\"\n",
    "from sklearn.metrics import precision_score, recall_score\n",
    "from sklearn.metrics import roc_auc_score, accuracy_score\n",
    "from sklearn.metrics import classification_report\n",
    "\n",
    "X_valid_dtm_manual = union.transform(df_valid)\n",
    "valid_pred = nb.predict(X_valid_dtm_manual)\n",
    "valid_proba = nb.predict_proba(X_valid_dtm_manual)\n",
    "y_valid = df_valid.Outcome\n",
    "\n",
    "valid_precision = precision_score(y_valid, valid_pred, average='micro')\n",
    "valid_recall = recall_score(y_valid, valid_pred, average='micro')\n",
    "valid_accuracy = accuracy_score(y_valid, valid_pred)\n",
    "valid_auc = roc_auc_score(y_valid, valid_proba, multi_class='ovr')\n",
    "\n",
    "print('valid precision: ', valid_precision)\n",
    "print('valid recall: ', valid_recall)\n",
    "print('valid accuracy: ', valid_accuracy)\n",
    "print('valid auc: ', valid_auc)\n",
    "print(classification_report(y_valid, valid_pred))\n",
    "\"\"\""
   ]
  },
  {
   "cell_type": "markdown",
   "metadata": {
    "papermill": {
     "duration": 0.029644,
     "end_time": "2021-04-04T08:34:26.493409",
     "exception": false,
     "start_time": "2021-04-04T08:34:26.463765",
     "status": "completed"
    },
    "tags": []
   },
   "source": [
    "# Prediction"
   ]
  },
  {
   "cell_type": "code",
   "execution_count": 27,
   "metadata": {
    "execution": {
     "iopub.execute_input": "2021-04-04T08:34:26.563452Z",
     "iopub.status.busy": "2021-04-04T08:34:26.562789Z",
     "iopub.status.idle": "2021-04-04T08:36:16.211297Z",
     "shell.execute_reply": "2021-04-04T08:36:16.211830Z"
    },
    "papermill": {
     "duration": 109.688867,
     "end_time": "2021-04-04T08:36:16.212172",
     "exception": false,
     "start_time": "2021-04-04T08:34:26.523305",
     "status": "completed"
    },
    "tags": []
   },
   "outputs": [
    {
     "data": {
      "text/plain": [
       "MultinomialNB(alpha=0.23955062740611444)"
      ]
     },
     "execution_count": 27,
     "metadata": {},
     "output_type": "execute_result"
    }
   ],
   "source": [
    "X_dtm_manual = union.fit_transform(df)\n",
    "nb.fit(X_dtm_manual, df.Outcome)"
   ]
  },
  {
   "cell_type": "code",
   "execution_count": 28,
   "metadata": {
    "execution": {
     "iopub.execute_input": "2021-04-04T08:36:16.276931Z",
     "iopub.status.busy": "2021-04-04T08:36:16.276269Z",
     "iopub.status.idle": "2021-04-04T08:36:18.312839Z",
     "shell.execute_reply": "2021-04-04T08:36:18.312260Z"
    },
    "papermill": {
     "duration": 2.0702,
     "end_time": "2021-04-04T08:36:18.312985",
     "exception": false,
     "start_time": "2021-04-04T08:36:16.242785",
     "status": "completed"
    },
    "tags": []
   },
   "outputs": [],
   "source": [
    "file_test = '../input/bt5153-applied-machine-learning-2021-spring/test.csv'\n",
    "df_test_pred = pd.read_csv(file_test)\n",
    "df_test['Text_x'] = df_test_pred['Text']"
   ]
  },
  {
   "cell_type": "code",
   "execution_count": 29,
   "metadata": {
    "execution": {
     "iopub.execute_input": "2021-04-04T08:36:18.380270Z",
     "iopub.status.busy": "2021-04-04T08:36:18.379597Z",
     "iopub.status.idle": "2021-04-04T08:36:31.302668Z",
     "shell.execute_reply": "2021-04-04T08:36:31.303134Z"
    },
    "papermill": {
     "duration": 12.959734,
     "end_time": "2021-04-04T08:36:31.303327",
     "exception": false,
     "start_time": "2021-04-04T08:36:18.343593",
     "status": "completed"
    },
    "tags": []
   },
   "outputs": [],
   "source": [
    "for col in [x for x in df_test.columns if x!='Text_x']:\n",
    "    df_test[col] = df_test[col].astype('float64') #transform to avoid error\n",
    "X_test_dtm_manual = union.transform(df_test)"
   ]
  },
  {
   "cell_type": "code",
   "execution_count": 30,
   "metadata": {
    "execution": {
     "iopub.execute_input": "2021-04-04T08:36:31.372140Z",
     "iopub.status.busy": "2021-04-04T08:36:31.371452Z",
     "iopub.status.idle": "2021-04-04T08:36:32.764474Z",
     "shell.execute_reply": "2021-04-04T08:36:32.763480Z"
    },
    "papermill": {
     "duration": 1.429997,
     "end_time": "2021-04-04T08:36:32.764624",
     "exception": false,
     "start_time": "2021-04-04T08:36:31.334627",
     "status": "completed"
    },
    "tags": []
   },
   "outputs": [],
   "source": [
    "df_test_pred['Outcome'] = nb.predict(X_test_dtm_manual)\n",
    "df_test_pred['Outcome'] = df_test_pred['Outcome'].astype('int64')\n",
    "df_test_pred[['Id', 'Outcome']].to_csv('output.csv', index=False)"
   ]
  },
  {
   "cell_type": "code",
   "execution_count": 31,
   "metadata": {
    "execution": {
     "iopub.execute_input": "2021-04-04T08:36:32.831470Z",
     "iopub.status.busy": "2021-04-04T08:36:32.830521Z",
     "iopub.status.idle": "2021-04-04T08:36:32.843786Z",
     "shell.execute_reply": "2021-04-04T08:36:32.844262Z"
    },
    "papermill": {
     "duration": 0.047862,
     "end_time": "2021-04-04T08:36:32.844445",
     "exception": false,
     "start_time": "2021-04-04T08:36:32.796583",
     "status": "completed"
    },
    "tags": []
   },
   "outputs": [
    {
     "data": {
      "text/html": [
       "<div>\n",
       "<style scoped>\n",
       "    .dataframe tbody tr th:only-of-type {\n",
       "        vertical-align: middle;\n",
       "    }\n",
       "\n",
       "    .dataframe tbody tr th {\n",
       "        vertical-align: top;\n",
       "    }\n",
       "\n",
       "    .dataframe thead th {\n",
       "        text-align: right;\n",
       "    }\n",
       "</style>\n",
       "<table border=\"1\" class=\"dataframe\">\n",
       "  <thead>\n",
       "    <tr style=\"text-align: right;\">\n",
       "      <th></th>\n",
       "      <th>Id</th>\n",
       "      <th>Outcome</th>\n",
       "    </tr>\n",
       "  </thead>\n",
       "  <tbody>\n",
       "    <tr>\n",
       "      <th>0</th>\n",
       "      <td>955455</td>\n",
       "      <td>15</td>\n",
       "    </tr>\n",
       "    <tr>\n",
       "      <th>1</th>\n",
       "      <td>955456</td>\n",
       "      <td>15</td>\n",
       "    </tr>\n",
       "    <tr>\n",
       "      <th>2</th>\n",
       "      <td>955457</td>\n",
       "      <td>10</td>\n",
       "    </tr>\n",
       "    <tr>\n",
       "      <th>3</th>\n",
       "      <td>955458</td>\n",
       "      <td>15</td>\n",
       "    </tr>\n",
       "    <tr>\n",
       "      <th>4</th>\n",
       "      <td>955459</td>\n",
       "      <td>9</td>\n",
       "    </tr>\n",
       "  </tbody>\n",
       "</table>\n",
       "</div>"
      ],
      "text/plain": [
       "       Id  Outcome\n",
       "0  955455       15\n",
       "1  955456       15\n",
       "2  955457       10\n",
       "3  955458       15\n",
       "4  955459        9"
      ]
     },
     "execution_count": 31,
     "metadata": {},
     "output_type": "execute_result"
    }
   ],
   "source": [
    "df_test_pred[['Id', 'Outcome']].head()"
   ]
  },
  {
   "cell_type": "code",
   "execution_count": 32,
   "metadata": {
    "execution": {
     "iopub.execute_input": "2021-04-04T08:36:32.910655Z",
     "iopub.status.busy": "2021-04-04T08:36:32.910018Z",
     "iopub.status.idle": "2021-04-04T08:36:32.928378Z",
     "shell.execute_reply": "2021-04-04T08:36:32.928875Z"
    },
    "papermill": {
     "duration": 0.053294,
     "end_time": "2021-04-04T08:36:32.929033",
     "exception": false,
     "start_time": "2021-04-04T08:36:32.875739",
     "status": "completed"
    },
    "tags": []
   },
   "outputs": [
    {
     "data": {
      "text/html": [
       "<div>\n",
       "<style scoped>\n",
       "    .dataframe tbody tr th:only-of-type {\n",
       "        vertical-align: middle;\n",
       "    }\n",
       "\n",
       "    .dataframe tbody tr th {\n",
       "        vertical-align: top;\n",
       "    }\n",
       "\n",
       "    .dataframe thead th {\n",
       "        text-align: right;\n",
       "    }\n",
       "</style>\n",
       "<table border=\"1\" class=\"dataframe\">\n",
       "  <thead>\n",
       "    <tr style=\"text-align: right;\">\n",
       "      <th></th>\n",
       "      <th>Outcome</th>\n",
       "    </tr>\n",
       "    <tr>\n",
       "      <th>index</th>\n",
       "      <th></th>\n",
       "    </tr>\n",
       "  </thead>\n",
       "  <tbody>\n",
       "    <tr>\n",
       "      <th>15</th>\n",
       "      <td>316839</td>\n",
       "    </tr>\n",
       "    <tr>\n",
       "      <th>10</th>\n",
       "      <td>50418</td>\n",
       "    </tr>\n",
       "    <tr>\n",
       "      <th>9</th>\n",
       "      <td>41482</td>\n",
       "    </tr>\n",
       "    <tr>\n",
       "      <th>11</th>\n",
       "      <td>31993</td>\n",
       "    </tr>\n",
       "    <tr>\n",
       "      <th>6</th>\n",
       "      <td>25943</td>\n",
       "    </tr>\n",
       "    <tr>\n",
       "      <th>3</th>\n",
       "      <td>24601</td>\n",
       "    </tr>\n",
       "    <tr>\n",
       "      <th>4</th>\n",
       "      <td>21734</td>\n",
       "    </tr>\n",
       "    <tr>\n",
       "      <th>7</th>\n",
       "      <td>13006</td>\n",
       "    </tr>\n",
       "    <tr>\n",
       "      <th>2</th>\n",
       "      <td>9725</td>\n",
       "    </tr>\n",
       "    <tr>\n",
       "      <th>1</th>\n",
       "      <td>8020</td>\n",
       "    </tr>\n",
       "    <tr>\n",
       "      <th>12</th>\n",
       "      <td>3318</td>\n",
       "    </tr>\n",
       "    <tr>\n",
       "      <th>5</th>\n",
       "      <td>1412</td>\n",
       "    </tr>\n",
       "    <tr>\n",
       "      <th>0</th>\n",
       "      <td>1317</td>\n",
       "    </tr>\n",
       "    <tr>\n",
       "      <th>14</th>\n",
       "      <td>1276</td>\n",
       "    </tr>\n",
       "    <tr>\n",
       "      <th>8</th>\n",
       "      <td>1068</td>\n",
       "    </tr>\n",
       "    <tr>\n",
       "      <th>13</th>\n",
       "      <td>583</td>\n",
       "    </tr>\n",
       "  </tbody>\n",
       "</table>\n",
       "</div>"
      ],
      "text/plain": [
       "       Outcome\n",
       "index         \n",
       "15      316839\n",
       "10       50418\n",
       "9        41482\n",
       "11       31993\n",
       "6        25943\n",
       "3        24601\n",
       "4        21734\n",
       "7        13006\n",
       "2         9725\n",
       "1         8020\n",
       "12        3318\n",
       "5         1412\n",
       "0         1317\n",
       "14        1276\n",
       "8         1068\n",
       "13         583"
      ]
     },
     "execution_count": 32,
     "metadata": {},
     "output_type": "execute_result"
    }
   ],
   "source": [
    "df_count = df_test_pred['Outcome'].value_counts().reset_index().set_index('index')\n",
    "df_count"
   ]
  }
 ],
 "metadata": {
  "kernelspec": {
   "display_name": "Python 3",
   "language": "python",
   "name": "python3"
  },
  "language_info": {
   "codemirror_mode": {
    "name": "ipython",
    "version": 3
   },
   "file_extension": ".py",
   "mimetype": "text/x-python",
   "name": "python",
   "nbconvert_exporter": "python",
   "pygments_lexer": "ipython3",
   "version": "3.7.9"
  },
  "papermill": {
   "default_parameters": {},
   "duration": 213.926908,
   "end_time": "2021-04-04T08:36:35.831419",
   "environment_variables": {},
   "exception": null,
   "input_path": "__notebook__.ipynb",
   "output_path": "__notebook__.ipynb",
   "parameters": {},
   "start_time": "2021-04-04T08:33:01.904511",
   "version": "2.2.2"
  }
 },
 "nbformat": 4,
 "nbformat_minor": 4
}
