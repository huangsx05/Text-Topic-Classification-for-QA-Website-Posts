{
 "cells": [
  {
   "cell_type": "code",
   "execution_count": 1,
   "metadata": {
    "_cell_guid": "b1076dfc-b9ad-4769-8c92-a6c4dae69d19",
    "_uuid": "8f2839f25d086af736a60e9eeb907d3b93b6e0e5",
    "execution": {
     "iopub.execute_input": "2021-05-21T15:04:54.258209Z",
     "iopub.status.busy": "2021-05-21T15:04:54.257386Z",
     "iopub.status.idle": "2021-05-21T15:04:55.503572Z",
     "shell.execute_reply": "2021-05-21T15:04:55.504217Z"
    },
    "papermill": {
     "duration": 1.26512,
     "end_time": "2021-05-21T15:04:55.504614",
     "exception": false,
     "start_time": "2021-05-21T15:04:54.239494",
     "status": "completed"
    },
    "tags": []
   },
   "outputs": [],
   "source": [
    "import numpy as np \n",
    "import pandas as pd \n",
    "from sklearn.model_selection import cross_val_score"
   ]
  },
  {
   "cell_type": "markdown",
   "metadata": {
    "papermill": {
     "duration": 0.012875,
     "end_time": "2021-05-21T15:04:55.530993",
     "exception": false,
     "start_time": "2021-05-21T15:04:55.518118",
     "status": "completed"
    },
    "tags": []
   },
   "source": [
    "### Import Data"
   ]
  },
  {
   "cell_type": "code",
   "execution_count": 2,
   "metadata": {
    "execution": {
     "iopub.execute_input": "2021-05-21T15:04:55.562036Z",
     "iopub.status.busy": "2021-05-21T15:04:55.560820Z",
     "iopub.status.idle": "2021-05-21T15:04:55.567075Z",
     "shell.execute_reply": "2021-05-21T15:04:55.567659Z"
    },
    "papermill": {
     "duration": 0.023762,
     "end_time": "2021-05-21T15:04:55.567872",
     "exception": false,
     "start_time": "2021-05-21T15:04:55.544110",
     "status": "completed"
    },
    "tags": []
   },
   "outputs": [],
   "source": [
    "file_train = '../input/bt5153-applied-machine-learning-2021-spring/train.csv'\n",
    "file_test = '../input/bt5153-applied-machine-learning-2021-spring/test.csv'\n",
    "\n",
    "feature = 'Text'\n",
    "target = 'Outcome'\n",
    "seed = 2021\n",
    "valid_ratio = 0.2\n",
    "\n",
    "cv = 5\n",
    "num_eval = 5 \n",
    "score = 'accuracy'\n",
    "\n",
    "DEBUG = False"
   ]
  },
  {
   "cell_type": "code",
   "execution_count": 3,
   "metadata": {
    "execution": {
     "iopub.execute_input": "2021-05-21T15:04:55.597989Z",
     "iopub.status.busy": "2021-05-21T15:04:55.596856Z",
     "iopub.status.idle": "2021-05-21T15:05:09.194815Z",
     "shell.execute_reply": "2021-05-21T15:05:09.193868Z"
    },
    "papermill": {
     "duration": 13.614477,
     "end_time": "2021-05-21T15:05:09.195007",
     "exception": false,
     "start_time": "2021-05-21T15:04:55.580530",
     "status": "completed"
    },
    "tags": []
   },
   "outputs": [],
   "source": [
    "df_train = pd.read_csv(file_train)\n",
    "df_test = pd.read_csv(file_test)"
   ]
  },
  {
   "cell_type": "code",
   "execution_count": 4,
   "metadata": {
    "execution": {
     "iopub.execute_input": "2021-05-21T15:05:09.240465Z",
     "iopub.status.busy": "2021-05-21T15:05:09.239620Z",
     "iopub.status.idle": "2021-05-21T15:05:09.258604Z",
     "shell.execute_reply": "2021-05-21T15:05:09.257910Z"
    },
    "papermill": {
     "duration": 0.050396,
     "end_time": "2021-05-21T15:05:09.258792",
     "exception": false,
     "start_time": "2021-05-21T15:05:09.208396",
     "status": "completed"
    },
    "tags": []
   },
   "outputs": [
    {
     "data": {
      "text/plain": [
       "14    483982\n",
       "13     83464\n",
       "12     64990\n",
       "9      49192\n",
       "2      47268\n",
       "7      42518\n",
       "8      38590\n",
       "5      32702\n",
       "1      31270\n",
       "0      24428\n",
       "3      20200\n",
       "10     16062\n",
       "11      7168\n",
       "4       6108\n",
       "15      5184\n",
       "6       2328\n",
       "Name: Outcome, dtype: int64"
      ]
     },
     "execution_count": 4,
     "metadata": {},
     "output_type": "execute_result"
    }
   ],
   "source": [
    "if DEBUG:\n",
    "    df_train = df_train[:100]\n",
    "    df_test = df_test[:100]\n",
    "df_train['Outcome'].value_counts()"
   ]
  },
  {
   "cell_type": "code",
   "execution_count": 5,
   "metadata": {
    "execution": {
     "iopub.execute_input": "2021-05-21T15:05:09.294021Z",
     "iopub.status.busy": "2021-05-21T15:05:09.292853Z",
     "iopub.status.idle": "2021-05-21T15:05:09.296887Z",
     "shell.execute_reply": "2021-05-21T15:05:09.296073Z"
    },
    "papermill": {
     "duration": 0.024329,
     "end_time": "2021-05-21T15:05:09.297108",
     "exception": false,
     "start_time": "2021-05-21T15:05:09.272779",
     "status": "completed"
    },
    "tags": []
   },
   "outputs": [],
   "source": [
    "X_train = df_train.Text\n",
    "X_test = df_test.Text\n",
    "\n",
    "y_train = df_train.Outcome\n",
    "y_test = df_train.Outcome"
   ]
  },
  {
   "cell_type": "markdown",
   "metadata": {
    "papermill": {
     "duration": 0.013918,
     "end_time": "2021-05-21T15:05:09.324829",
     "exception": false,
     "start_time": "2021-05-21T15:05:09.310911",
     "status": "completed"
    },
    "tags": []
   },
   "source": [
    "### Vectorization"
   ]
  },
  {
   "cell_type": "code",
   "execution_count": 6,
   "metadata": {
    "execution": {
     "iopub.execute_input": "2021-05-21T15:05:09.358035Z",
     "iopub.status.busy": "2021-05-21T15:05:09.357261Z",
     "iopub.status.idle": "2021-05-21T15:05:09.383180Z",
     "shell.execute_reply": "2021-05-21T15:05:09.382432Z"
    },
    "papermill": {
     "duration": 0.044765,
     "end_time": "2021-05-21T15:05:09.383349",
     "exception": false,
     "start_time": "2021-05-21T15:05:09.338584",
     "status": "completed"
    },
    "tags": []
   },
   "outputs": [
    {
     "data": {
      "text/plain": [
       "CountVectorizer()"
      ]
     },
     "execution_count": 6,
     "metadata": {},
     "output_type": "execute_result"
    }
   ],
   "source": [
    "# import and instantiate CountVectorizer (with default parameters)\n",
    "from sklearn.feature_extraction.text import CountVectorizer\n",
    "vect = CountVectorizer()\n",
    "vect"
   ]
  },
  {
   "cell_type": "markdown",
   "metadata": {
    "papermill": {
     "duration": 0.014382,
     "end_time": "2021-05-21T15:05:09.412179",
     "exception": false,
     "start_time": "2021-05-21T15:05:09.397797",
     "status": "completed"
    },
    "tags": []
   },
   "source": [
    "### Model"
   ]
  },
  {
   "cell_type": "code",
   "execution_count": 7,
   "metadata": {
    "execution": {
     "iopub.execute_input": "2021-05-21T15:05:09.447491Z",
     "iopub.status.busy": "2021-05-21T15:05:09.446503Z",
     "iopub.status.idle": "2021-05-21T15:05:09.453120Z",
     "shell.execute_reply": "2021-05-21T15:05:09.452410Z"
    },
    "papermill": {
     "duration": 0.026358,
     "end_time": "2021-05-21T15:05:09.453286",
     "exception": false,
     "start_time": "2021-05-21T15:05:09.426928",
     "status": "completed"
    },
    "tags": []
   },
   "outputs": [],
   "source": [
    "# import and instantiate Multinomial Naive Bayes (with the default parameters)\n",
    "from sklearn.naive_bayes import MultinomialNB\n",
    "nb = MultinomialNB()"
   ]
  },
  {
   "cell_type": "markdown",
   "metadata": {
    "papermill": {
     "duration": 0.013603,
     "end_time": "2021-05-21T15:05:09.482774",
     "exception": false,
     "start_time": "2021-05-21T15:05:09.469171",
     "status": "completed"
    },
    "tags": []
   },
   "source": [
    "### Pipeline"
   ]
  },
  {
   "cell_type": "code",
   "execution_count": 8,
   "metadata": {
    "execution": {
     "iopub.execute_input": "2021-05-21T15:05:09.517454Z",
     "iopub.status.busy": "2021-05-21T15:05:09.516673Z",
     "iopub.status.idle": "2021-05-21T15:05:09.527388Z",
     "shell.execute_reply": "2021-05-21T15:05:09.526685Z"
    },
    "papermill": {
     "duration": 0.03082,
     "end_time": "2021-05-21T15:05:09.527588",
     "exception": false,
     "start_time": "2021-05-21T15:05:09.496768",
     "status": "completed"
    },
    "tags": []
   },
   "outputs": [
    {
     "data": {
      "text/plain": [
       "[('countvectorizer', CountVectorizer()), ('multinomialnb', MultinomialNB())]"
      ]
     },
     "execution_count": 8,
     "metadata": {},
     "output_type": "execute_result"
    }
   ],
   "source": [
    "# create a pipeline of vectorization and Naive Bayes\n",
    "from sklearn.pipeline import make_pipeline\n",
    "pipe = make_pipeline(vect, nb)\n",
    "pipe.steps"
   ]
  },
  {
   "cell_type": "markdown",
   "metadata": {
    "papermill": {
     "duration": 0.014649,
     "end_time": "2021-05-21T15:05:09.557011",
     "exception": false,
     "start_time": "2021-05-21T15:05:09.542362",
     "status": "completed"
    },
    "tags": []
   },
   "source": [
    "### Tune Hyperparameters (Hyperopt)"
   ]
  },
  {
   "cell_type": "code",
   "execution_count": 9,
   "metadata": {
    "execution": {
     "iopub.execute_input": "2021-05-21T15:05:09.595394Z",
     "iopub.status.busy": "2021-05-21T15:05:09.594268Z",
     "iopub.status.idle": "2021-05-21T15:05:10.328645Z",
     "shell.execute_reply": "2021-05-21T15:05:10.327792Z"
    },
    "papermill": {
     "duration": 0.7568,
     "end_time": "2021-05-21T15:05:10.328866",
     "exception": false,
     "start_time": "2021-05-21T15:05:09.572066",
     "status": "completed"
    },
    "tags": []
   },
   "outputs": [],
   "source": [
    "from hyperopt import fmin, tpe, hp, STATUS_OK, Trials\n",
    "from time import time\n",
    "param_hyperopt= {\n",
    "    'countvectorizer__token_pattern': hp.choice('countvectorizer__token_pattern', [r\"\\b\\w\\w+\\b\", r\"'([a-z ]+)'\"]),\n",
    "    'countvectorizer__min_df':        hp.choice('countvectorizer__min_df', np.arange(1, 5, 1, dtype=int)), \n",
    "    'multinomialnb__alpha':           hp.uniform('multinomialnb__alpha', 0.0, 1.0)                                   \n",
    "    }"
   ]
  },
  {
   "cell_type": "code",
   "execution_count": 10,
   "metadata": {
    "execution": {
     "iopub.execute_input": "2021-05-21T15:05:10.372671Z",
     "iopub.status.busy": "2021-05-21T15:05:10.371547Z",
     "iopub.status.idle": "2021-05-21T15:05:10.375031Z",
     "shell.execute_reply": "2021-05-21T15:05:10.374454Z"
    },
    "papermill": {
     "duration": 0.031254,
     "end_time": "2021-05-21T15:05:10.375235",
     "exception": false,
     "start_time": "2021-05-21T15:05:10.343981",
     "status": "completed"
    },
    "tags": []
   },
   "outputs": [],
   "source": [
    "def hyperopt(param_space, X_train, y_train, num_eval):\n",
    "    \n",
    "    start = time()\n",
    "    \n",
    "    # defin the object function\n",
    "    def objective_function(params):\n",
    "        clf = pipe.set_params(**params) \n",
    "        score = cross_val_score(clf, X_train, y_train, cv=cv).mean()\n",
    "        return {'loss': -score, 'status': STATUS_OK}\n",
    "\n",
    "    trials = Trials()\n",
    "\n",
    "    best_param = fmin(objective_function, \n",
    "                      param_space, \n",
    "                      algo=tpe.suggest, \n",
    "                      max_evals=num_eval, \n",
    "                      trials=trials,\n",
    "                      rstate= np.random.RandomState(1))\n",
    "    \n",
    "    loss = [x['result']['loss'] for x in trials.trials]\n",
    "    \n",
    "    best_param_values = [x for x in best_param.values()]\n",
    "    print(best_param_values)\n",
    "    \n",
    "    if best_param_values[1] == 0:\n",
    "        token_type = r\"\\b\\w\\w+\\b\"\n",
    "    else:\n",
    "        token_type = r\"'([a-z ]+)'\"\n",
    "    \n",
    "    clf_best = pipe.set_params(countvectorizer__token_pattern=token_type,\n",
    "                    countvectorizer__min_df=int(best_param_values[0]),\n",
    "                    multinomialnb__alpha=float(best_param_values[2]))\n",
    "                                  \n",
    "    clf_best.fit(X_train, y_train)\n",
    "    \n",
    "    print(\"\")\n",
    "    print(\"##### Results\")\n",
    "    print(\"Score best parameters: \", min(loss)*-1)\n",
    "    print(\"Best parameters: \", best_param)\n",
    "    print(\"Time elapsed: \", time() - start)\n",
    "    print(\"Parameter combinations evaluated: \", num_eval)\n",
    "    \n",
    "    return trials, clf_best"
   ]
  },
  {
   "cell_type": "code",
   "execution_count": 11,
   "metadata": {
    "execution": {
     "iopub.execute_input": "2021-05-21T15:05:10.420395Z",
     "iopub.status.busy": "2021-05-21T15:05:10.419378Z",
     "iopub.status.idle": "2021-05-21T15:20:04.298207Z",
     "shell.execute_reply": "2021-05-21T15:20:04.299005Z"
    },
    "papermill": {
     "duration": 893.909183,
     "end_time": "2021-05-21T15:20:04.299304",
     "exception": false,
     "start_time": "2021-05-21T15:05:10.390121",
     "status": "completed"
    },
    "tags": []
   },
   "outputs": [
    {
     "name": "stdout",
     "output_type": "stream",
     "text": [
      "100%|██████████| 5/5 [13:40<00:00, 164.16s/trial, best loss: -0.916028402221271]\n",
      "[2, 0, 0.23955062740611444]\n",
      "\n",
      "##### Results\n",
      "Score best parameters:  0.916028402221271\n",
      "Best parameters:  {'countvectorizer__min_df': 2, 'countvectorizer__token_pattern': 0, 'multinomialnb__alpha': 0.23955062740611444}\n",
      "Time elapsed:  893.864649772644\n",
      "Parameter combinations evaluated:  5\n",
      "CPU times: user 14min 41s, sys: 11.9 s, total: 14min 53s\n",
      "Wall time: 14min 53s\n"
     ]
    }
   ],
   "source": [
    "%%time\n",
    "results_hyperopt, clf = hyperopt(param_hyperopt, X_train, y_train, num_eval)"
   ]
  },
  {
   "cell_type": "code",
   "execution_count": 12,
   "metadata": {
    "execution": {
     "iopub.execute_input": "2021-05-21T15:20:04.345707Z",
     "iopub.status.busy": "2021-05-21T15:20:04.344573Z",
     "iopub.status.idle": "2021-05-21T15:20:04.349655Z",
     "shell.execute_reply": "2021-05-21T15:20:04.348938Z"
    },
    "papermill": {
     "duration": 0.031926,
     "end_time": "2021-05-21T15:20:04.349818",
     "exception": false,
     "start_time": "2021-05-21T15:20:04.317892",
     "status": "completed"
    },
    "tags": []
   },
   "outputs": [
    {
     "data": {
      "text/plain": [
       "Pipeline(steps=[('countvectorizer',\n",
       "                 CountVectorizer(min_df=2, token_pattern='\\\\b\\\\w\\\\w+\\\\b')),\n",
       "                ('multinomialnb', MultinomialNB(alpha=0.23955062740611444))])"
      ]
     },
     "execution_count": 12,
     "metadata": {},
     "output_type": "execute_result"
    }
   ],
   "source": [
    "clf"
   ]
  },
  {
   "cell_type": "markdown",
   "metadata": {
    "papermill": {
     "duration": 0.017611,
     "end_time": "2021-05-21T15:20:04.385473",
     "exception": false,
     "start_time": "2021-05-21T15:20:04.367862",
     "status": "completed"
    },
    "tags": []
   },
   "source": [
    "### Prediction"
   ]
  },
  {
   "cell_type": "code",
   "execution_count": 13,
   "metadata": {
    "execution": {
     "iopub.execute_input": "2021-05-21T15:20:04.440902Z",
     "iopub.status.busy": "2021-05-21T15:20:04.435680Z",
     "iopub.status.idle": "2021-05-21T15:20:18.352375Z",
     "shell.execute_reply": "2021-05-21T15:20:18.351003Z"
    },
    "papermill": {
     "duration": 13.949151,
     "end_time": "2021-05-21T15:20:18.352583",
     "exception": false,
     "start_time": "2021-05-21T15:20:04.403432",
     "status": "completed"
    },
    "tags": []
   },
   "outputs": [],
   "source": [
    "df_test['Outcome'] = clf.predict(X_test)\n",
    "df_test[['Id', 'Outcome']].to_csv('output.csv', index=False)"
   ]
  },
  {
   "cell_type": "code",
   "execution_count": 14,
   "metadata": {
    "execution": {
     "iopub.execute_input": "2021-05-21T15:20:18.402142Z",
     "iopub.status.busy": "2021-05-21T15:20:18.400953Z",
     "iopub.status.idle": "2021-05-21T15:20:18.417375Z",
     "shell.execute_reply": "2021-05-21T15:20:18.416769Z"
    },
    "papermill": {
     "duration": 0.046162,
     "end_time": "2021-05-21T15:20:18.417553",
     "exception": false,
     "start_time": "2021-05-21T15:20:18.371391",
     "status": "completed"
    },
    "tags": []
   },
   "outputs": [
    {
     "data": {
      "text/html": [
       "<div>\n",
       "<style scoped>\n",
       "    .dataframe tbody tr th:only-of-type {\n",
       "        vertical-align: middle;\n",
       "    }\n",
       "\n",
       "    .dataframe tbody tr th {\n",
       "        vertical-align: top;\n",
       "    }\n",
       "\n",
       "    .dataframe thead th {\n",
       "        text-align: right;\n",
       "    }\n",
       "</style>\n",
       "<table border=\"1\" class=\"dataframe\">\n",
       "  <thead>\n",
       "    <tr style=\"text-align: right;\">\n",
       "      <th></th>\n",
       "      <th>Id</th>\n",
       "      <th>Outcome</th>\n",
       "    </tr>\n",
       "  </thead>\n",
       "  <tbody>\n",
       "    <tr>\n",
       "      <th>0</th>\n",
       "      <td>955455</td>\n",
       "      <td>15</td>\n",
       "    </tr>\n",
       "    <tr>\n",
       "      <th>1</th>\n",
       "      <td>955456</td>\n",
       "      <td>1</td>\n",
       "    </tr>\n",
       "    <tr>\n",
       "      <th>2</th>\n",
       "      <td>955457</td>\n",
       "      <td>10</td>\n",
       "    </tr>\n",
       "    <tr>\n",
       "      <th>3</th>\n",
       "      <td>955458</td>\n",
       "      <td>15</td>\n",
       "    </tr>\n",
       "    <tr>\n",
       "      <th>4</th>\n",
       "      <td>955459</td>\n",
       "      <td>9</td>\n",
       "    </tr>\n",
       "    <tr>\n",
       "      <th>...</th>\n",
       "      <td>...</td>\n",
       "      <td>...</td>\n",
       "    </tr>\n",
       "    <tr>\n",
       "      <th>552730</th>\n",
       "      <td>1508185</td>\n",
       "      <td>9</td>\n",
       "    </tr>\n",
       "    <tr>\n",
       "      <th>552731</th>\n",
       "      <td>1508186</td>\n",
       "      <td>15</td>\n",
       "    </tr>\n",
       "    <tr>\n",
       "      <th>552732</th>\n",
       "      <td>1508187</td>\n",
       "      <td>10</td>\n",
       "    </tr>\n",
       "    <tr>\n",
       "      <th>552733</th>\n",
       "      <td>1508188</td>\n",
       "      <td>11</td>\n",
       "    </tr>\n",
       "    <tr>\n",
       "      <th>552734</th>\n",
       "      <td>1508189</td>\n",
       "      <td>3</td>\n",
       "    </tr>\n",
       "  </tbody>\n",
       "</table>\n",
       "<p>552735 rows × 2 columns</p>\n",
       "</div>"
      ],
      "text/plain": [
       "             Id  Outcome\n",
       "0        955455       15\n",
       "1        955456        1\n",
       "2        955457       10\n",
       "3        955458       15\n",
       "4        955459        9\n",
       "...         ...      ...\n",
       "552730  1508185        9\n",
       "552731  1508186       15\n",
       "552732  1508187       10\n",
       "552733  1508188       11\n",
       "552734  1508189        3\n",
       "\n",
       "[552735 rows x 2 columns]"
      ]
     },
     "execution_count": 14,
     "metadata": {},
     "output_type": "execute_result"
    }
   ],
   "source": [
    "df_test[['Id', 'Outcome']]"
   ]
  },
  {
   "cell_type": "code",
   "execution_count": 15,
   "metadata": {
    "execution": {
     "iopub.execute_input": "2021-05-21T15:20:18.462930Z",
     "iopub.status.busy": "2021-05-21T15:20:18.461953Z",
     "iopub.status.idle": "2021-05-21T15:20:18.474996Z",
     "shell.execute_reply": "2021-05-21T15:20:18.474337Z"
    },
    "papermill": {
     "duration": 0.038303,
     "end_time": "2021-05-21T15:20:18.475175",
     "exception": false,
     "start_time": "2021-05-21T15:20:18.436872",
     "status": "completed"
    },
    "tags": []
   },
   "outputs": [
    {
     "data": {
      "text/plain": [
       "15    263079\n",
       "10     63246\n",
       "9      50285\n",
       "7      47505\n",
       "11     24714\n",
       "1      22153\n",
       "3      21076\n",
       "4      16442\n",
       "6      16319\n",
       "2      12070\n",
       "12      5533\n",
       "14      4725\n",
       "5       1939\n",
       "13      1311\n",
       "8       1262\n",
       "0       1076\n",
       "Name: Outcome, dtype: int64"
      ]
     },
     "execution_count": 15,
     "metadata": {},
     "output_type": "execute_result"
    }
   ],
   "source": [
    "df_test['Outcome'].value_counts()"
   ]
  }
 ],
 "metadata": {
  "kernelspec": {
   "display_name": "Python 3",
   "language": "python",
   "name": "python3"
  },
  "language_info": {
   "codemirror_mode": {
    "name": "ipython",
    "version": 3
   },
   "file_extension": ".py",
   "mimetype": "text/x-python",
   "name": "python",
   "nbconvert_exporter": "python",
   "pygments_lexer": "ipython3",
   "version": "3.7.9"
  },
  "papermill": {
   "default_parameters": {},
   "duration": 932.322,
   "end_time": "2021-05-21T15:20:19.711845",
   "environment_variables": {},
   "exception": null,
   "input_path": "__notebook__.ipynb",
   "output_path": "__notebook__.ipynb",
   "parameters": {},
   "start_time": "2021-05-21T15:04:47.389845",
   "version": "2.2.2"
  }
 },
 "nbformat": 4,
 "nbformat_minor": 4
}
