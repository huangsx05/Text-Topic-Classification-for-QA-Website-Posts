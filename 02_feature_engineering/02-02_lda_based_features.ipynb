{
 "cells": [
  {
   "cell_type": "code",
   "execution_count": 1,
   "metadata": {
    "_cell_guid": "b1076dfc-b9ad-4769-8c92-a6c4dae69d19",
    "_uuid": "8f2839f25d086af736a60e9eeb907d3b93b6e0e5",
    "execution": {
     "iopub.execute_input": "2021-05-21T14:57:54.910523Z",
     "iopub.status.busy": "2021-05-21T14:57:54.909844Z",
     "iopub.status.idle": "2021-05-21T14:57:54.913269Z",
     "shell.execute_reply": "2021-05-21T14:57:54.912615Z"
    },
    "papermill": {
     "duration": 0.018645,
     "end_time": "2021-05-21T14:57:54.913467",
     "exception": false,
     "start_time": "2021-05-21T14:57:54.894822",
     "status": "completed"
    },
    "tags": []
   },
   "outputs": [],
   "source": [
    "import numpy as np \n",
    "import pandas as pd \n",
    "import warnings\n",
    "warnings.filterwarnings('ignore')"
   ]
  },
  {
   "cell_type": "markdown",
   "metadata": {
    "papermill": {
     "duration": 0.008103,
     "end_time": "2021-05-21T14:57:54.930549",
     "exception": false,
     "start_time": "2021-05-21T14:57:54.922446",
     "status": "completed"
    },
    "tags": []
   },
   "source": [
    "## 1. Import Data"
   ]
  },
  {
   "cell_type": "code",
   "execution_count": 2,
   "metadata": {
    "execution": {
     "iopub.execute_input": "2021-05-21T14:57:54.950506Z",
     "iopub.status.busy": "2021-05-21T14:57:54.949916Z",
     "iopub.status.idle": "2021-05-21T14:58:08.428980Z",
     "shell.execute_reply": "2021-05-21T14:58:08.429531Z"
    },
    "papermill": {
     "duration": 13.490741,
     "end_time": "2021-05-21T14:58:08.429761",
     "exception": false,
     "start_time": "2021-05-21T14:57:54.939020",
     "status": "completed"
    },
    "tags": []
   },
   "outputs": [
    {
     "data": {
      "text/html": [
       "<div>\n",
       "<style scoped>\n",
       "    .dataframe tbody tr th:only-of-type {\n",
       "        vertical-align: middle;\n",
       "    }\n",
       "\n",
       "    .dataframe tbody tr th {\n",
       "        vertical-align: top;\n",
       "    }\n",
       "\n",
       "    .dataframe thead th {\n",
       "        text-align: right;\n",
       "    }\n",
       "</style>\n",
       "<table border=\"1\" class=\"dataframe\">\n",
       "  <thead>\n",
       "    <tr style=\"text-align: right;\">\n",
       "      <th></th>\n",
       "      <th>Outcome</th>\n",
       "      <th>Text</th>\n",
       "      <th>Id</th>\n",
       "    </tr>\n",
       "  </thead>\n",
       "  <tbody>\n",
       "    <tr>\n",
       "      <th>0</th>\n",
       "      <td>15</td>\n",
       "      <td>Food charities struggle to cover meals lost fr...</td>\n",
       "      <td>955456</td>\n",
       "    </tr>\n",
       "    <tr>\n",
       "      <th>1</th>\n",
       "      <td>15</td>\n",
       "      <td>President Said to Be Planning to Use Executive...</td>\n",
       "      <td>955458</td>\n",
       "    </tr>\n",
       "    <tr>\n",
       "      <th>2</th>\n",
       "      <td>15</td>\n",
       "      <td>Tracking deregulation in the Trump era</td>\n",
       "      <td>955460</td>\n",
       "    </tr>\n",
       "    <tr>\n",
       "      <th>3</th>\n",
       "      <td>15</td>\n",
       "      <td>Former Montana governor hedging on presidentia...</td>\n",
       "      <td>955461</td>\n",
       "    </tr>\n",
       "    <tr>\n",
       "      <th>4</th>\n",
       "      <td>15</td>\n",
       "      <td>“The number of ‘compliance incidents’ is jaw-d...</td>\n",
       "      <td>955465</td>\n",
       "    </tr>\n",
       "  </tbody>\n",
       "</table>\n",
       "</div>"
      ],
      "text/plain": [
       "   Outcome                                               Text      Id\n",
       "0       15  Food charities struggle to cover meals lost fr...  955456\n",
       "1       15  President Said to Be Planning to Use Executive...  955458\n",
       "2       15             Tracking deregulation in the Trump era  955460\n",
       "3       15  Former Montana governor hedging on presidentia...  955461\n",
       "4       15  “The number of ‘compliance incidents’ is jaw-d...  955465"
      ]
     },
     "execution_count": 2,
     "metadata": {},
     "output_type": "execute_result"
    }
   ],
   "source": [
    "file = '../input/bt5153-applied-machine-learning-2021-spring/train.csv'\n",
    "file_test = '../input/bt5153-applied-machine-learning-2021-spring/test.csv'\n",
    "new_15 = '../input/bn-vect-manual-out95/test_over95.csv'\n",
    "\n",
    "df = pd.read_csv(file)\n",
    "df_test = pd.read_csv(file_test)\n",
    "df_15_new = pd.read_csv(new_15)\n",
    "df_15_new = df_15_new[['Outcome', 'Text', 'Id']]\n",
    "\n",
    "DEBUG = False\n",
    "if DEBUG:\n",
    "    df = df[:1000]\n",
    "    df_15_new = df_15_new[:1000]\n",
    "    df_test = df_test[:1000]\n",
    "\n",
    "df_15_new.head()"
   ]
  },
  {
   "cell_type": "markdown",
   "metadata": {
    "papermill": {
     "duration": 0.009486,
     "end_time": "2021-05-21T14:58:08.450267",
     "exception": false,
     "start_time": "2021-05-21T14:58:08.440781",
     "status": "completed"
    },
    "tags": []
   },
   "source": [
    "## 2. Data Cleaning"
   ]
  },
  {
   "cell_type": "code",
   "execution_count": 3,
   "metadata": {
    "execution": {
     "iopub.execute_input": "2021-05-21T14:58:08.477567Z",
     "iopub.status.busy": "2021-05-21T14:58:08.476853Z",
     "iopub.status.idle": "2021-05-21T14:58:54.082197Z",
     "shell.execute_reply": "2021-05-21T14:58:54.081208Z"
    },
    "papermill": {
     "duration": 45.622933,
     "end_time": "2021-05-21T14:58:54.082365",
     "exception": false,
     "start_time": "2021-05-21T14:58:08.459432",
     "status": "completed"
    },
    "tags": []
   },
   "outputs": [],
   "source": [
    "#Text Cleaning\n",
    "import re\n",
    "from nltk.corpus import stopwords\n",
    "REPLACE_BY_SPACE_RE = re.compile('[/(){}\\[\\]\\|@,;#]')\n",
    "BAD_SYMBOLS_RE = re.compile('[^0-9a-z #+_]')\n",
    "STOPWORDS = set(stopwords.words('english'))\n",
    "\n",
    "my_stopwords = {'gt', 'lt', 'xa', 'xd', 'im'}\n",
    "for word in my_stopwords:\n",
    "    stopwords = STOPWORDS.add(word)\n",
    "\n",
    "def clean_text(text):\n",
    "    \"\"\"\n",
    "    argument: text - a string       \n",
    "    return: text - modified initial string\n",
    "    \"\"\"\n",
    "    #text = BeautifulSoup(text, \"lxml\").text # HTML decoding\n",
    "    text = text.lower() # lowercase text\n",
    "    text = REPLACE_BY_SPACE_RE.sub(' ', text) # replace REPLACE_BY_SPACE_RE symbols by space in text\n",
    "    text = BAD_SYMBOLS_RE.sub('', text) # delete symbols which are in BAD_SYMBOLS_RE from text\n",
    "    text = ' '.join(word for word in text.split() if word not in STOPWORDS) # delete stopwors from text\n",
    "    return text\n",
    "    \n",
    "df['Text'] = df['Text'].apply(clean_text)"
   ]
  },
  {
   "cell_type": "code",
   "execution_count": 4,
   "metadata": {
    "execution": {
     "iopub.execute_input": "2021-05-21T14:58:54.111694Z",
     "iopub.status.busy": "2021-05-21T14:58:54.111047Z",
     "iopub.status.idle": "2021-05-21T14:59:04.557192Z",
     "shell.execute_reply": "2021-05-21T14:59:04.556611Z"
    },
    "papermill": {
     "duration": 10.465645,
     "end_time": "2021-05-21T14:59:04.557356",
     "exception": false,
     "start_time": "2021-05-21T14:58:54.091711",
     "status": "completed"
    },
    "tags": []
   },
   "outputs": [],
   "source": [
    "df['Split'] = df['Text'].apply(lambda x: x.split())\n",
    "df_15_new['Split'] = df_15_new['Text'].apply(lambda x: x.split())\n",
    "df_test['Split'] = df_test['Text'].apply(lambda x: x.split())"
   ]
  },
  {
   "cell_type": "markdown",
   "metadata": {
    "papermill": {
     "duration": 0.009739,
     "end_time": "2021-05-21T14:59:04.577335",
     "exception": false,
     "start_time": "2021-05-21T14:59:04.567596",
     "status": "completed"
    },
    "tags": []
   },
   "source": [
    "# 3. Features based on Word List"
   ]
  },
  {
   "cell_type": "code",
   "execution_count": 5,
   "metadata": {
    "execution": {
     "iopub.execute_input": "2021-05-21T14:59:04.602510Z",
     "iopub.status.busy": "2021-05-21T14:59:04.601925Z",
     "iopub.status.idle": "2021-05-21T14:59:04.605026Z",
     "shell.execute_reply": "2021-05-21T14:59:04.604388Z"
    },
    "papermill": {
     "duration": 0.017857,
     "end_time": "2021-05-21T14:59:04.605180",
     "exception": false,
     "start_time": "2021-05-21T14:59:04.587323",
     "status": "completed"
    },
    "tags": []
   },
   "outputs": [],
   "source": [
    "import string\n",
    "def count_words(text, word_list):\n",
    "    # count the words that are in word_list for the text\n",
    "    cnt = 0\n",
    "    for word in text:\n",
    "        if word.strip(string.punctuation).lower() in word_list:\n",
    "            cnt+=1\n",
    "    return cnt"
   ]
  },
  {
   "cell_type": "code",
   "execution_count": 6,
   "metadata": {
    "execution": {
     "iopub.execute_input": "2021-05-21T14:59:04.630989Z",
     "iopub.status.busy": "2021-05-21T14:59:04.630365Z",
     "iopub.status.idle": "2021-05-21T14:59:04.633363Z",
     "shell.execute_reply": "2021-05-21T14:59:04.632674Z"
    },
    "papermill": {
     "duration": 0.018532,
     "end_time": "2021-05-21T14:59:04.633513",
     "exception": false,
     "start_time": "2021-05-21T14:59:04.614981",
     "status": "completed"
    },
    "tags": []
   },
   "outputs": [],
   "source": [
    "lda_list = {0 : 'php post page wordpress echo code posts id plugin plugins development function functions', \n",
    "            1 : 'visa visas passport passports air travel flight airport airports visit uk us schengen customs immigration transit train trains luggage ticket tickets', \n",
    "            2 : 'mac iphone macbook os apple macos ios pro itunes ipad icloud applescript safari imac', \n",
    "            3 : 'android device google google-play galaxy samsung screen', \n",
    "            4 : 'space spacex spacecraft earth moon mars orbit launch rocket rockets spacecraft satellite nasa apollo',\n",
    "            5 : 'voltage circuit power power-supply current microcontroller transistor transistors battery batteries amplifier resistor resistors',\n",
    "            6 : 'money price rate rates value demand tax taxes stock stocks income incomes invest investing credit credit-card mortgage loan loans bank banking trade trading real-estate',\n",
    "            7 : 'aliens anime book books magic marvel novel read remember story stories ',\n",
    "            8 : 'block blocks database drupal field module node nodes form forms content node nodes file files user users', \n",
    "            9 : 'achievement achievements dota game play pc ps3 ps4 pokemon pokemon-go level xbox',\n",
    "            10 : 'cast casting character cinema dialogue ending movie plot production scene title film films episode',\n",
    "            11 : 'bitcoin wallet transaction address block btc bitcoins transactions mining blockchain',\n",
    "            12 : 'dynamic dynamics electro energy fluid force forces gravity magnetism mass mechnics optics partial quantum light theory wave waves',\n",
    "            13 : 'arcmap arcpy arcgis geoserver gdal openlayers openstreetmap polygon qgis postgresql postgis pyqgis layer map raster', \n",
    "            14 : 'amp calculus derivatives differential frac geometry inequality integration linear-algebra mathbb matrices polynomials probability prove infty function sqrt problem set statistics',\n",
    "            15 : 'republican bill senate republicans states country government president question countries democrats state vote law obama political us house trumps romney court trump gop party'\n",
    "           }"
   ]
  },
  {
   "cell_type": "code",
   "execution_count": 7,
   "metadata": {
    "execution": {
     "iopub.execute_input": "2021-05-21T14:59:04.659473Z",
     "iopub.status.busy": "2021-05-21T14:59:04.658724Z",
     "iopub.status.idle": "2021-05-21T14:59:04.662190Z",
     "shell.execute_reply": "2021-05-21T14:59:04.661452Z"
    },
    "papermill": {
     "duration": 0.018792,
     "end_time": "2021-05-21T14:59:04.662357",
     "exception": false,
     "start_time": "2021-05-21T14:59:04.643565",
     "status": "completed"
    },
    "tags": []
   },
   "outputs": [],
   "source": [
    "def get_lda_features(df):\n",
    "    # compute LDA_based features\n",
    "    for i in range(16):\n",
    "        word_list = lda_list[i].split()\n",
    "        col = 'lda_'+str(i)\n",
    "        df[col] = df.Split.apply(lambda x: count_words(x, word_list))"
   ]
  },
  {
   "cell_type": "code",
   "execution_count": 8,
   "metadata": {
    "execution": {
     "iopub.execute_input": "2021-05-21T14:59:04.687692Z",
     "iopub.status.busy": "2021-05-21T14:59:04.687069Z",
     "iopub.status.idle": "2021-05-21T15:05:21.940015Z",
     "shell.execute_reply": "2021-05-21T15:05:21.940498Z"
    },
    "papermill": {
     "duration": 377.268229,
     "end_time": "2021-05-21T15:05:21.940690",
     "exception": false,
     "start_time": "2021-05-21T14:59:04.672461",
     "status": "completed"
    },
    "tags": []
   },
   "outputs": [
    {
     "name": "stdout",
     "output_type": "stream",
     "text": [
      "CPU times: user 6min 16s, sys: 357 ms, total: 6min 17s\n",
      "Wall time: 6min 17s\n"
     ]
    }
   ],
   "source": [
    "%%time\n",
    "get_lda_features(df)\n",
    "get_lda_features(df_test)\n",
    "get_lda_features(df_15_new)"
   ]
  },
  {
   "cell_type": "code",
   "execution_count": 9,
   "metadata": {
    "execution": {
     "iopub.execute_input": "2021-05-21T15:05:21.982037Z",
     "iopub.status.busy": "2021-05-21T15:05:21.966230Z",
     "iopub.status.idle": "2021-05-21T15:05:21.986537Z",
     "shell.execute_reply": "2021-05-21T15:05:21.986046Z"
    },
    "papermill": {
     "duration": 0.035892,
     "end_time": "2021-05-21T15:05:21.986679",
     "exception": false,
     "start_time": "2021-05-21T15:05:21.950787",
     "status": "completed"
    },
    "tags": []
   },
   "outputs": [
    {
     "data": {
      "text/html": [
       "<div>\n",
       "<style scoped>\n",
       "    .dataframe tbody tr th:only-of-type {\n",
       "        vertical-align: middle;\n",
       "    }\n",
       "\n",
       "    .dataframe tbody tr th {\n",
       "        vertical-align: top;\n",
       "    }\n",
       "\n",
       "    .dataframe thead th {\n",
       "        text-align: right;\n",
       "    }\n",
       "</style>\n",
       "<table border=\"1\" class=\"dataframe\">\n",
       "  <thead>\n",
       "    <tr style=\"text-align: right;\">\n",
       "      <th></th>\n",
       "      <th>Outcome</th>\n",
       "      <th>Text</th>\n",
       "      <th>Id</th>\n",
       "      <th>Split</th>\n",
       "      <th>lda_0</th>\n",
       "      <th>lda_1</th>\n",
       "      <th>lda_2</th>\n",
       "      <th>lda_3</th>\n",
       "      <th>lda_4</th>\n",
       "      <th>lda_5</th>\n",
       "      <th>lda_6</th>\n",
       "      <th>lda_7</th>\n",
       "      <th>lda_8</th>\n",
       "      <th>lda_9</th>\n",
       "      <th>lda_10</th>\n",
       "      <th>lda_11</th>\n",
       "      <th>lda_12</th>\n",
       "      <th>lda_13</th>\n",
       "      <th>lda_14</th>\n",
       "      <th>lda_15</th>\n",
       "    </tr>\n",
       "  </thead>\n",
       "  <tbody>\n",
       "    <tr>\n",
       "      <th>0</th>\n",
       "      <td>14</td>\n",
       "      <td>problem first example amir dembo ofer zeitouni...</td>\n",
       "      <td>1</td>\n",
       "      <td>[problem, first, example, amir, dembo, ofer, z...</td>\n",
       "      <td>0</td>\n",
       "      <td>0</td>\n",
       "      <td>0</td>\n",
       "      <td>0</td>\n",
       "      <td>0</td>\n",
       "      <td>0</td>\n",
       "      <td>0</td>\n",
       "      <td>1</td>\n",
       "      <td>0</td>\n",
       "      <td>0</td>\n",
       "      <td>0</td>\n",
       "      <td>0</td>\n",
       "      <td>0</td>\n",
       "      <td>0</td>\n",
       "      <td>2</td>\n",
       "      <td>0</td>\n",
       "    </tr>\n",
       "    <tr>\n",
       "      <th>1</th>\n",
       "      <td>14</td>\n",
       "      <td>everyone met tough definite integral follows i...</td>\n",
       "      <td>2</td>\n",
       "      <td>[everyone, met, tough, definite, integral, fol...</td>\n",
       "      <td>0</td>\n",
       "      <td>0</td>\n",
       "      <td>0</td>\n",
       "      <td>0</td>\n",
       "      <td>0</td>\n",
       "      <td>0</td>\n",
       "      <td>0</td>\n",
       "      <td>0</td>\n",
       "      <td>0</td>\n",
       "      <td>0</td>\n",
       "      <td>0</td>\n",
       "      <td>0</td>\n",
       "      <td>0</td>\n",
       "      <td>0</td>\n",
       "      <td>1</td>\n",
       "      <td>0</td>\n",
       "    </tr>\n",
       "    <tr>\n",
       "      <th>2</th>\n",
       "      <td>7</td>\n",
       "      <td>please dont lynch ive never sat entire star wa...</td>\n",
       "      <td>3</td>\n",
       "      <td>[please, dont, lynch, ive, never, sat, entire,...</td>\n",
       "      <td>0</td>\n",
       "      <td>0</td>\n",
       "      <td>0</td>\n",
       "      <td>0</td>\n",
       "      <td>0</td>\n",
       "      <td>0</td>\n",
       "      <td>0</td>\n",
       "      <td>0</td>\n",
       "      <td>0</td>\n",
       "      <td>0</td>\n",
       "      <td>4</td>\n",
       "      <td>0</td>\n",
       "      <td>0</td>\n",
       "      <td>0</td>\n",
       "      <td>0</td>\n",
       "      <td>0</td>\n",
       "    </tr>\n",
       "    <tr>\n",
       "      <th>3</th>\n",
       "      <td>14</td>\n",
       "      <td>calculate mathbb z x langle2x1rangle</td>\n",
       "      <td>4</td>\n",
       "      <td>[calculate, mathbb, z, x, langle2x1rangle]</td>\n",
       "      <td>0</td>\n",
       "      <td>0</td>\n",
       "      <td>0</td>\n",
       "      <td>0</td>\n",
       "      <td>0</td>\n",
       "      <td>0</td>\n",
       "      <td>0</td>\n",
       "      <td>0</td>\n",
       "      <td>0</td>\n",
       "      <td>0</td>\n",
       "      <td>0</td>\n",
       "      <td>0</td>\n",
       "      <td>0</td>\n",
       "      <td>0</td>\n",
       "      <td>1</td>\n",
       "      <td>0</td>\n",
       "    </tr>\n",
       "    <tr>\n",
       "      <th>4</th>\n",
       "      <td>2</td>\n",
       "      <td>somebody rings texts iphone also showing ipad ...</td>\n",
       "      <td>5</td>\n",
       "      <td>[somebody, rings, texts, iphone, also, showing...</td>\n",
       "      <td>0</td>\n",
       "      <td>0</td>\n",
       "      <td>3</td>\n",
       "      <td>0</td>\n",
       "      <td>0</td>\n",
       "      <td>0</td>\n",
       "      <td>0</td>\n",
       "      <td>0</td>\n",
       "      <td>0</td>\n",
       "      <td>0</td>\n",
       "      <td>0</td>\n",
       "      <td>0</td>\n",
       "      <td>0</td>\n",
       "      <td>0</td>\n",
       "      <td>0</td>\n",
       "      <td>0</td>\n",
       "    </tr>\n",
       "  </tbody>\n",
       "</table>\n",
       "</div>"
      ],
      "text/plain": [
       "   Outcome                                               Text  Id  \\\n",
       "0       14  problem first example amir dembo ofer zeitouni...   1   \n",
       "1       14  everyone met tough definite integral follows i...   2   \n",
       "2        7  please dont lynch ive never sat entire star wa...   3   \n",
       "3       14               calculate mathbb z x langle2x1rangle   4   \n",
       "4        2  somebody rings texts iphone also showing ipad ...   5   \n",
       "\n",
       "                                               Split  lda_0  lda_1  lda_2  \\\n",
       "0  [problem, first, example, amir, dembo, ofer, z...      0      0      0   \n",
       "1  [everyone, met, tough, definite, integral, fol...      0      0      0   \n",
       "2  [please, dont, lynch, ive, never, sat, entire,...      0      0      0   \n",
       "3         [calculate, mathbb, z, x, langle2x1rangle]      0      0      0   \n",
       "4  [somebody, rings, texts, iphone, also, showing...      0      0      3   \n",
       "\n",
       "   lda_3  lda_4  lda_5  lda_6  lda_7  lda_8  lda_9  lda_10  lda_11  lda_12  \\\n",
       "0      0      0      0      0      1      0      0       0       0       0   \n",
       "1      0      0      0      0      0      0      0       0       0       0   \n",
       "2      0      0      0      0      0      0      0       4       0       0   \n",
       "3      0      0      0      0      0      0      0       0       0       0   \n",
       "4      0      0      0      0      0      0      0       0       0       0   \n",
       "\n",
       "   lda_13  lda_14  lda_15  \n",
       "0       0       2       0  \n",
       "1       0       1       0  \n",
       "2       0       0       0  \n",
       "3       0       1       0  \n",
       "4       0       0       0  "
      ]
     },
     "execution_count": 9,
     "metadata": {},
     "output_type": "execute_result"
    }
   ],
   "source": [
    "df.head()"
   ]
  },
  {
   "cell_type": "code",
   "execution_count": 10,
   "metadata": {
    "execution": {
     "iopub.execute_input": "2021-05-21T15:05:22.013726Z",
     "iopub.status.busy": "2021-05-21T15:05:22.013130Z",
     "iopub.status.idle": "2021-05-21T15:06:04.548130Z",
     "shell.execute_reply": "2021-05-21T15:06:04.547426Z"
    },
    "papermill": {
     "duration": 42.550698,
     "end_time": "2021-05-21T15:06:04.548282",
     "exception": false,
     "start_time": "2021-05-21T15:05:21.997584",
     "status": "completed"
    },
    "tags": []
   },
   "outputs": [],
   "source": [
    "df.to_csv('df_lda_feat.csv')\n",
    "df_15_new.to_csv('df_15_new_lda_feat.csv')\n",
    "df_test.to_csv('df_test_lda_feat.csv')"
   ]
  }
 ],
 "metadata": {
  "kernelspec": {
   "display_name": "Python 3",
   "language": "python",
   "name": "python3"
  },
  "language_info": {
   "codemirror_mode": {
    "name": "ipython",
    "version": 3
   },
   "file_extension": ".py",
   "mimetype": "text/x-python",
   "name": "python",
   "nbconvert_exporter": "python",
   "pygments_lexer": "ipython3",
   "version": "3.7.9"
  },
  "papermill": {
   "default_parameters": {},
   "duration": 498.440448,
   "end_time": "2021-05-21T15:06:07.378571",
   "environment_variables": {},
   "exception": null,
   "input_path": "__notebook__.ipynb",
   "output_path": "__notebook__.ipynb",
   "parameters": {},
   "start_time": "2021-05-21T14:57:48.938123",
   "version": "2.2.2"
  }
 },
 "nbformat": 4,
 "nbformat_minor": 4
}
